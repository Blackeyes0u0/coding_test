{
 "cells": [
  {
   "cell_type": "code",
   "execution_count": 36,
   "id": "ba4534a5",
   "metadata": {},
   "outputs": [
    {
     "name": "stdout",
     "output_type": "stream",
     "text": [
      "6\n"
     ]
    }
   ],
   "source": [
    "n=\n",
    "num = (n//5)\n",
    "count = num\n",
    "while (n-(num)*5)%5!=0:\n",
    "    count = num + (n-(num)*5)//3\n",
    "    if (n-(num)*5)%3==0:\n",
    "        break\n",
    "    else:\n",
    "        num=num-1\n",
    "    if num==-1:\n",
    "        count=-1\n",
    "        break\n",
    "print(count)\n",
    "        \n",
    "    "
   ]
  },
  {
   "cell_type": "code",
   "execution_count": 114,
   "id": "dd4c13a8",
   "metadata": {},
   "outputs": [
    {
     "name": "stdout",
     "output_type": "stream",
     "text": [
      "3 4\n",
      "[0, 1, 2]\n",
      "<class 'list'>\n",
      "<class 'numpy.ndarray'>\n",
      "[0 2 4]\n",
      "<class 'list'>\n",
      "[0, 2, 4]\n",
      "1\n",
      "2\n",
      "3\n",
      "['1', '2', '3']\n"
     ]
    }
   ],
   "source": [
    "n ,k = map(int,input().split())\n",
    "\n",
    "list2 = [i for i in range(n)]\n",
    "print(list2)\n",
    "print(type(list2))\n",
    "list2 = np.array(list2)*2\n",
    "print(type(list2))\n",
    "print(list2)\n",
    "list2 = list(list2)\n",
    "\n",
    "print(type(list2))\n",
    "\n",
    "print(list2)\n",
    "\n",
    "for i in range(n):\n",
    "    list2[i]=input()\n",
    "print(list2)"
   ]
  },
  {
   "cell_type": "code",
   "execution_count": 134,
   "id": "f74c1fd1",
   "metadata": {},
   "outputs": [
    {
     "name": "stdout",
     "output_type": "stream",
     "text": [
      "10 4200\n",
      "1\n",
      "5\n",
      "10\n",
      "50\n",
      "100\n",
      "500\n",
      "1000\n",
      "5000\n",
      "10000\n",
      "50000\n",
      "6\n"
     ]
    }
   ],
   "source": [
    "n, k= map(int,input().split(' '))\n",
    "\n",
    "coins = []\n",
    "\n",
    "for i in range(n):\n",
    "    coins.append(int(input()))\n",
    "\n",
    "#print(n,k)\n",
    "coins.sort(reverse=True)\n",
    "count = 0\n",
    "cur = k\n",
    "\n",
    "for coin in coins:\n",
    "    if coin <= cur :\n",
    "        count += cur // coin\n",
    "        cur = cur % coin\n",
    "\n",
    "print(count)\n",
    "\n",
    "###################################### final correctionspd\n",
    "\n",
    "[n, k] = map(int,input().split())\n",
    "count=0\n",
    "list2=[]\n",
    "for i in range(n):\n",
    "    list2.append(int(input()))\n",
    "\n",
    "list2.reverse()\n",
    "\n",
    "for coin in list2:\n",
    "    if coin <= k:\n",
    "        count+= k//coin\n",
    "        k = k%coin\n",
    "        \n",
    "print(count)"
   ]
  },
  {
   "cell_type": "code",
   "execution_count": 132,
   "id": "3b05f6ac",
   "metadata": {},
   "outputs": [
    {
     "name": "stdout",
     "output_type": "stream",
     "text": [
      "10 4200\n",
      "1\n",
      "5\n",
      "10\n",
      "50\n",
      "100\n",
      "500\n",
      "1000\n",
      "5000\n",
      "10000\n",
      "50000\n",
      "6\n"
     ]
    }
   ],
   "source": [
    "n, k = map(int,input().split())\n",
    "list2 = [i for i in range(n)]\n",
    "for i in range(n):\n",
    "    list2[i]=input()\n",
    "count=0\n",
    "list2.reverse()\n",
    "\n",
    "for coin in list2:\n",
    "    if coin <= k:\n",
    "        count+= k//coin\n",
    "        k = k%coin\n",
    "        \n",
    "print(count)\n",
    "for i in range(n):\n",
    "    num = int(list2[i])\n",
    "    if num<k:\n",
    "        count += k//num\n",
    "        k -=(k//num)*num\n",
    "        #print(count)\n",
    "    if k==0:\n",
    "        break\n",
    "        #print(count)\n",
    "print(count)\n"
   ]
  },
  {
   "cell_type": "code",
   "execution_count": 126,
   "id": "4402469f",
   "metadata": {},
   "outputs": [
    {
     "name": "stdout",
     "output_type": "stream",
     "text": [
      "2\n"
     ]
    }
   ],
   "source": [
    "print(count)"
   ]
  },
  {
   "cell_type": "code",
   "execution_count": 124,
   "id": "e6f0517e",
   "metadata": {},
   "outputs": [
    {
     "name": "stdout",
     "output_type": "stream",
     "text": [
      "9\n",
      "8\n",
      "7\n",
      "6\n",
      "5\n",
      "4\n",
      "3\n",
      "2\n",
      "1\n",
      "0\n"
     ]
    }
   ],
   "source": [
    "count=0\n",
    "for i in range(n-1,-1,-1):\n",
    "    if int(list2[i])<k:\n",
    "        count = k//int(list2[i])\n",
    "        k = k-(k//(int(list2[i])))*int(list2[i])\n",
    "    if k==0:\n",
    "        break\n",
    "        "
   ]
  },
  {
   "cell_type": "code",
   "execution_count": 84,
   "id": "bfc667f4",
   "metadata": {},
   "outputs": [
    {
     "name": "stdout",
     "output_type": "stream",
     "text": [
      "5\n",
      "3 2 4 5 1\n"
     ]
    }
   ],
   "source": [
    "n = int(input())\n",
    "atm_list = list(map(int,input().split()))\n"
   ]
  },
  {
   "cell_type": "code",
   "execution_count": 86,
   "id": "3c6230e4",
   "metadata": {},
   "outputs": [
    {
     "name": "stdout",
     "output_type": "stream",
     "text": [
      "5\n",
      "[1, 4, 10, 20, 35]\n"
     ]
    }
   ],
   "source": [
    "print(n)\n",
    "\n",
    "n = int(input())\n",
    "atm_list = list(map(int,input().split()))\n",
    "\n",
    "atm_list.sort()\n",
    "sum=0\n",
    "for i in range(n):\n",
    "    sum += atm_list[i]\n",
    "    atm_list[i]=sum\n",
    "#print(atm_list)\n",
    "sum_all=0\n",
    "for i in range(n):\n",
    "    sum_all+=atm_list[i]"
   ]
  },
  {
   "cell_type": "code",
   "execution_count": 79,
   "id": "59410ba9",
   "metadata": {},
   "outputs": [
    {
     "name": "stdout",
     "output_type": "stream",
     "text": [
      "<class 'list'>\n"
     ]
    }
   ],
   "source": [
    "n.sort()\n",
    "n.reverse()\n",
    "print(type(n))"
   ]
  },
  {
   "cell_type": "code",
   "execution_count": 72,
   "id": "f1383fa1",
   "metadata": {},
   "outputs": [
    {
     "name": "stdout",
     "output_type": "stream",
     "text": [
      "[5, 4, 3, 2, 1]\n"
     ]
    }
   ],
   "source": [
    "print(n)\n",
    "import numpy as np"
   ]
  },
  {
   "cell_type": "code",
   "execution_count": 70,
   "id": "dd11a3f6",
   "metadata": {},
   "outputs": [
    {
     "name": "stdout",
     "output_type": "stream",
     "text": [
      "[0 1 2 3 4 5 6 7 8 9]\n"
     ]
    }
   ],
   "source": [
    "list1 = np.array([i for i in range(10)])\n",
    "print(list1)"
   ]
  },
  {
   "cell_type": "code",
   "execution_count": 81,
   "id": "fd1231c9",
   "metadata": {},
   "outputs": [
    {
     "name": "stdout",
     "output_type": "stream",
     "text": [
      "<class 'numpy.ndarray'>\n"
     ]
    }
   ],
   "source": [
    "print(type(list1))"
   ]
  },
  {
   "cell_type": "code",
   "execution_count": null,
   "id": "8ab6c951",
   "metadata": {},
   "outputs": [],
   "source": []
  }
 ],
 "metadata": {
  "kernelspec": {
   "display_name": "Python 3 (ipykernel)",
   "language": "python",
   "name": "python3"
  },
  "language_info": {
   "codemirror_mode": {
    "name": "ipython",
    "version": 3
   },
   "file_extension": ".py",
   "mimetype": "text/x-python",
   "name": "python",
   "nbconvert_exporter": "python",
   "pygments_lexer": "ipython3",
   "version": "3.9.7"
  }
 },
 "nbformat": 4,
 "nbformat_minor": 5
}
