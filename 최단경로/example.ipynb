{
 "cells": [
  {
   "cell_type": "markdown",
   "metadata": {},
   "source": [
    "# 최단 경로 알고리즘\n",
    "\n",
    "말 그대로 가장 짧은 결로를 찾는 알고리즘이다.\n",
    "그래서 길찾기 문제라고도 불린다. 최단경로 알고리즘 유형에는 다양한 종류가 있는데, 상황에 맞는 효율적인 알고리즘이 이미 정립되어있따.\n",
    "\n",
    "예를 들어 '한지점에서 다른특정 지점까지의 최단 경로를 구해야 하는경우' , ' 모든 지점에서 다른 모든 지점까지의 최단경로를 모두 구해야 하는경우' 등 다양한 사례가 존재한다. \n",
    "이런 사례에 맞는 알고리즘을 알고 있다면 문제를 좀더 쉽게 풀수있다. \n",
    "\n",
    "최단 경로는 노드와 간선의 문제이다.\n",
    "\n",
    "최단 경로 알고리즘 : 다익스트라 최단경로, 플로이드 워셜, 벨만 포드 알고리즘 3개\n",
    "\n",
    "# 다익스트라 최단 경로 알고리즘\n",
    "\n",
    "다익스트라 최단 경로 알고리즘은 그래프에서 여러개의 노드가 있을때, 특정한 노드에서 출발하여 다른 노드로 가는 각각의 최단경로를ㄹ 구해주는 알고리즘이다. 다익스트라 최단경로 알고리즘은 ' 음의 간선' 이 없을때 정상적으로 작동.  음의 간선이란 0 보다 작은 값을 가지는 간선을 의미하는데 , 현실 세계의 길은 음의 간선으로 표현되지 않으므로 다익스트라 알고리즘은 실제 gps 알고리즘으로 채택되곤한다.\n",
    "원리\n",
    "\n",
    "1. 출발 노드를 설정\n",
    "2. 최단 거리 테이블을 초기화\n",
    "3. 방문하지않은 노드 중에서 최단 거리가 가장 짧은 노드선택\n",
    "4. 해당 노드를 거쳐 다른 노드로 가는 비용을 계산하여 최단거리 테이블 갱신\n",
    "5. 위 과정 3,4 반복\n",
    "\n"
   ]
  },
  {
   "cell_type": "code",
   "execution_count": null,
   "metadata": {},
   "outputs": [],
   "source": [
    "# 가장 빠르게 도달하는 방법\n",
    "\n",
    "import sys\n",
    "input = sys.stdin.readline\n",
    "\n",
    "INF = int(1e9)\n",
    "\n",
    "n,m = map(int,input().split())\n",
    "\n",
    "start = int(input())\n",
    "graph = [ [] for i in range(n+1)]\n",
    "visited = [False]*(n+1)\n",
    "\n",
    "distance = [INF]*(n+1)\n",
    "\n",
    "for _ in range(m):\n",
    "    a,b,c = map(int,input().split())\n"
   ]
  },
  {
   "cell_type": "markdown",
   "metadata": {},
   "source": [
    "n,m = 6,11\n",
    "start =1\n",
    "graph = [ [] for i in range(n+1)]\n",
    "visited = [False]*(n+1)\n",
    "\n",
    "distance = [INF]*(n+1)\n"
   ]
  },
  {
   "cell_type": "code",
   "execution_count": 3,
   "metadata": {},
   "outputs": [],
   "source": [
    "n , m = 4,5\n",
    "visited = [False]*(n+1)\n",
    "\n",
    "line=[]\n",
    "for _ in range(m):\n",
    "    line.append(list(map(int,input().split())))"
   ]
  },
  {
   "cell_type": "code",
   "execution_count": 20,
   "metadata": {},
   "outputs": [
    {
     "name": "stdout",
     "output_type": "stream",
     "text": [
      "[array([1, 3, 7]), array([1, 4, 4]), array([2, 3, 2]), array([3, 4, 3]), array([4, 2, 7])]\n"
     ]
    },
    {
     "data": {
      "text/plain": [
       "list"
      ]
     },
     "execution_count": 20,
     "metadata": {},
     "output_type": "execute_result"
    }
   ],
   "source": [
    "print(line)\n",
    "type(line)\n",
    "\n",
    "import numpy as  np\n",
    "line = np.array(line)\n",
    "\n",
    "line.shape\n",
    "\n",
    "line[1]\n",
    "line = list(line)\n",
    "line[1]\n",
    "type(line)"
   ]
  },
  {
   "cell_type": "code",
   "execution_count": 21,
   "metadata": {},
   "outputs": [],
   "source": [
    "visited = [False]*(n+1)\n",
    "\n",
    "start =1\n",
    "\n",
    "# 풀기 너무 복잡해.. 멍청\n",
    "\n"
   ]
  },
  {
   "cell_type": "code",
   "execution_count": null,
   "metadata": {},
   "outputs": [],
   "source": [
    "# 개선된 다익스트라 알고리즘 heap 자료구조 사용 힙자료구조\n",
    "\n",
    "n=1000000\n",
    "\n",
    "# heap : priority queue 를 구현\n",
    "\n",
    "# stack 나중에 삽입된 데이터를 가장 먼저 삭제\n",
    "# queue 가장 먼저 삽입 데이터 먼저 삭제\n",
    "\n",
    "# 우선순위 큐 : 우선순위가 가장 높은 데이터를 가장 먼저 삭제함\n",
    "\n"
   ]
  },
  {
   "cell_type": "markdown",
   "metadata": {},
   "source": [
    "# 폴로이드 워셜  알고리즘\n",
    "\n",
    "다익스트라 알고리즘은 \" 한지점에서 다른 특정 지점까지의 최단 경로를구해야하는 경우 \" 에 사용 할수잇는 최단경로이다.\n",
    "\n",
    "폴로이드 워셜 : 모든 지점에서 다른 모든 지점까지의 최단 경로를 모두 구해야하는 경우\n"
   ]
  },
  {
   "cell_type": "code",
   "execution_count": null,
   "metadata": {},
   "outputs": [],
   "source": []
  }
 ],
 "metadata": {
  "kernelspec": {
   "display_name": "Python 3.9.7 ('base')",
   "language": "python",
   "name": "python3"
  },
  "language_info": {
   "codemirror_mode": {
    "name": "ipython",
    "version": 3
   },
   "file_extension": ".py",
   "mimetype": "text/x-python",
   "name": "python",
   "nbconvert_exporter": "python",
   "pygments_lexer": "ipython3",
   "version": "3.9.7"
  },
  "orig_nbformat": 4,
  "vscode": {
   "interpreter": {
    "hash": "02f754aef147fb776b997ef6bbe552e658e71e385d24e6d441d7a23703ccddb1"
   }
  }
 },
 "nbformat": 4,
 "nbformat_minor": 2
}
