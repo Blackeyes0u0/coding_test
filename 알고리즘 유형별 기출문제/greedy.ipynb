{
 "cells": [
  {
   "cell_type": "code",
   "execution_count": 5,
   "metadata": {},
   "outputs": [
    {
     "name": "stdout",
     "output_type": "stream",
     "text": [
      "1 now_x\n",
      "1 fear\n",
      "2 now_x\n",
      "2 fear\n",
      "3 now_x\n",
      "3 fear\n",
      "4 now_x\n",
      "4 fear\n",
      "1 now_x\n",
      "4 fear\n",
      "2 now_x\n",
      "5 fear\n",
      "3 now_x\n",
      "5 fear\n",
      "4 now_x\n",
      "5 fear\n",
      "5 now_x\n",
      "6 fear\n",
      "2\n"
     ]
    }
   ],
   "source": [
    "#nothing on your mine\n",
    "\n",
    "# 모험가 공포도 문제\n",
    "\n",
    "n = int(input())\n",
    "list1 = list(map(int, input().split()))\n",
    "\n",
    "list1.sort()\n",
    "\n",
    "count = 0\n",
    "now_x=1\n",
    "fear = list[0]\n",
    "for i in range(len(list1)):\n",
    "    fear = list1[i]\n",
    "\n",
    "    if now_x>=fear:\n",
    "        \n",
    "        count+=1\n",
    "        now_x=1\n",
    "    else:\n",
    "        now_x+=1\n",
    "    #fear = list1[i+1]\n",
    "    print(now_x,\"now_x\")\n",
    "    print(fear,\"fear\")\n",
    "\n",
    "print(count)"
   ]
  },
  {
   "cell_type": "code",
   "execution_count": 3,
   "metadata": {},
   "outputs": [
    {
     "name": "stdout",
     "output_type": "stream",
     "text": [
      "2\n"
     ]
    }
   ],
   "source": []
  },
  {
   "cell_type": "code",
   "execution_count": null,
   "metadata": {},
   "outputs": [],
   "source": []
  }
 ],
 "metadata": {
  "kernelspec": {
   "display_name": "Python 3.9.7 ('base')",
   "language": "python",
   "name": "python3"
  },
  "language_info": {
   "codemirror_mode": {
    "name": "ipython",
    "version": 3
   },
   "file_extension": ".py",
   "mimetype": "text/x-python",
   "name": "python",
   "nbconvert_exporter": "python",
   "pygments_lexer": "ipython3",
   "version": "3.9.7"
  },
  "orig_nbformat": 4,
  "vscode": {
   "interpreter": {
    "hash": "02f754aef147fb776b997ef6bbe552e658e71e385d24e6d441d7a23703ccddb1"
   }
  }
 },
 "nbformat": 4,
 "nbformat_minor": 2
}
