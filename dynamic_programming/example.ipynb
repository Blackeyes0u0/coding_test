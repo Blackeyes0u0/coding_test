{
 "cells": [
  {
   "cell_type": "markdown",
   "metadata": {},
   "source": [
    "# 다이나믹 프로그래밍\n",
    "\n",
    "중복되는 연산을 줄이기\n",
    "현실 셰게어는 다양한 문제가 있다  그런데 이중에서 컴퓨터를 활용해도 해결하기 어려운 문제는 무엇일가?\n",
    "최적의 해를 구하기에 시간이 매우 많이 필요하거나 메모리공간이 매우 많ㅇ ㅣ필욯나 ㅇ문제등이 컴퓨터가 해결하기어려울 것이다. \n",
    "컴퓨터는 연산속도에 한계가 있꼬, 메모리 공간을 사용할수있는ㄴ 데이터 개수도 한정적이다. \n",
    "그래서 연사 속도와 메모리 공간을 쵣해나으로 활용할수있는 효율적인 알고리즘을 작성해야함.\n",
    "\n",
    "ps. 추가로 해결하기 어려운 문제에 대해서 깊게 다루는 분야로느  게산 복잡도 이론이있다. p-np 문제를 다루는 계산 복잡도 이론.\n",
    "\n"
   ]
  },
  {
   "cell_type": "code",
   "execution_count": 10,
   "metadata": {},
   "outputs": [
    {
     "data": {
      "text/plain": [
       "63245986"
      ]
     },
     "execution_count": 10,
     "metadata": {},
     "output_type": "execute_result"
    }
   ],
   "source": [
    "sum=0\n",
    "def a_n(n):\n",
    "    if n==1 or n==2:\n",
    "        return 1\n",
    "    return a_n(n-1)+ a_n(n-2)\n",
    "\n",
    "a_n(39) # fibonachi 수열 문제\n"
   ]
  },
  {
   "cell_type": "markdown",
   "metadata": {},
   "source": [
    "위에 처럼 코드를 짰을때  40 하더라도 30초가 넘게 걸리고 그 수치는 배로 늘어난다.\n",
    "이처럼 피보나치수열의 점화식을 재귀함수를 사용해만들 수는 있지만 단순히 매번 계산하도록 하면 ㅈ문제를 효율적으로 해결할수없다. 이러한 문제는 다이나믹 프로그래밍을 사용하면 효율적으로 해결할수있다. 다음 조건을 만족하는경우 사용가능하다\n",
    "\n",
    "1. 큰문제를 작은 문제로 나눌수있다.\n",
    "2. 작은 문제에서 구한 정답은 그것을 포함하는 큰문제에서도 동일하다.\n",
    "   \n",
    "메모이제이션 기법을 사용ㅇ해보자. \n",
    "\n",
    "한번 구한 결과를 메모리  공간에 메모해두고 같은 식을 다시 호출하면 메모한 결과를 그대로 가져오는 기법이다.\n",
    "메모제이션을 저장하는 방법으로 캐싱이라고도 한다.\n",
    "\n",
    "실제로 메모이제이션은 어떻게 구현할수있을까?\n",
    "\n",
    "단순하다. 한번 구한 정보를 리스트에 저장하는것이다.\n"
   ]
  },
  {
   "cell_type": "code",
   "execution_count": 27,
   "metadata": {},
   "outputs": [
    {
     "name": "stdout",
     "output_type": "stream",
     "text": [
      "[0, 0, 0, 0, 0, 0, 0, 0, 0, 0]\n"
     ]
    },
    {
     "data": {
      "text/plain": [
       "26863810024485359386146727202142923967616609318986952340123175997617981700247881689338369654483356564191827856161443356312976673642210350324634850410377680367334151172899169723197082763985615764450078474174626"
      ]
     },
     "execution_count": 27,
     "metadata": {},
     "output_type": "execute_result"
    }
   ],
   "source": [
    "d = [0]*1000\n",
    "c = [0]*10\n",
    "print(c)\n",
    "def fibo(x):\n",
    "    if x==1 or x==2:\n",
    "        return 1\n",
    "    if d[x] !=0:\n",
    "        #print(x)\n",
    "        return d[x]\n",
    "    d[x] =fibo(x-1) +fibo(x-2)\n",
    "    return d[x]\n",
    "\n",
    "fibo(999)\n",
    "\n",
    "# 거짓말 왜이리 빨라....\n",
    "\n",
    "# 시간복잡도가 O(n) 입니다만!\n",
    "# 헤헤\n"
   ]
  },
  {
   "cell_type": "code",
   "execution_count": 26,
   "metadata": {},
   "outputs": [
    {
     "data": {
      "text/plain": [
       "218922995834555169026"
      ]
     },
     "execution_count": 26,
     "metadata": {},
     "output_type": "execute_result"
    }
   ],
   "source": [
    "d = [0]*100\n",
    "def fibo(x):\n",
    "    #d = [0]*100\n",
    "    if x==1 or x==2:\n",
    "        return 1\n",
    "    if d[x] != 0:\n",
    "        return d[x]\n",
    "    d[x] =fibo(x-1)+fibo(x-2)\n",
    "        \n",
    "    return d[x]\n",
    "fibo(99)"
   ]
  },
  {
   "cell_type": "code",
   "execution_count": 28,
   "metadata": {},
   "outputs": [
    {
     "name": "stdout",
     "output_type": "stream",
     "text": [
      "218922995834555169026\n"
     ]
    }
   ],
   "source": [
    "# 이처럼 재귀 함수를 이용하여 다이나믹 프로그래밍 소스코드를 작성하는 방법을, 큰무네데 작은 문제를 호출한다고 하여 \n",
    "# top down 방식이라고 말한다. 반명에 단순히 반복문을 이용하여 소스코드를 작성하는 경우 작은 문제부터 차근차근 답을 도출한다고하여 보텀업 방식이라고 말한다. 피보나치 수열 문제를 아래에서 위로 올라가는 보텀업 방식으로 풀면 다음과 같다.\n",
    "\n",
    "d =[0] *100\n",
    "d[1] =1\n",
    "d[2]=1\n",
    "n=99\n",
    "for i in range(3,n+1):\n",
    "    d[i]=d[i-1]+d[i-2]\n",
    "print(d[99])"
   ]
  },
  {
   "cell_type": "code",
   "execution_count": 29,
   "metadata": {},
   "outputs": [
    {
     "data": {
      "text/plain": [
       "4"
      ]
     },
     "execution_count": 29,
     "metadata": {},
     "output_type": "execute_result"
    }
   ],
   "source": [
    "# 앞서 수열은 배열이나 리스트로 표한ㅎ라수있다고 했는데\n",
    "# 딕셔너리도 사용할수있다.\n",
    "\n",
    "# 문제 1로 만들자.\n",
    "\n",
    "x = int(input())\n",
    "\n",
    "d = [0]*30001\n",
    "\n",
    "for i in range(2, x+1):\n",
    "    d[i] = d[i-1] +1\n",
    "    if i%2 ==0:\n",
    "        d[i] = min(d[i],d[i//2]+1)\n",
    "    if i%3==0:\n",
    "        d[i]=min(d[i],d[i//3]+1)\n",
    "    if i%5==0:\n",
    "        d[i] =min(d[i],d[i//5]+1)\n",
    "d[x]"
   ]
  },
  {
   "cell_type": "code",
   "execution_count": 31,
   "metadata": {},
   "outputs": [
    {
     "name": "stdout",
     "output_type": "stream",
     "text": [
      "51\n"
     ]
    }
   ],
   "source": [
    "# 개미 전사 \n",
    "\n",
    "n = int(input())\n",
    "\n",
    "array1 =(list(map(int,input().split())))\n",
    "\n",
    "d = [0]*100\n",
    "\n",
    "d[0] = array1[0]\n",
    "d[1] = max(array1[0],array1[1])\n",
    "\n",
    "for i in range(2,n):\n",
    "    d[i] = max(d[i-1],d[i-2]+array1[i])\n",
    "\n",
    "print(d[n-1])\n"
   ]
  },
  {
   "cell_type": "code",
   "execution_count": 32,
   "metadata": {},
   "outputs": [],
   "source": [
    "# 타일 공사\n",
    "\n",
    "# 이해 하기 어려웡\n"
   ]
  },
  {
   "cell_type": "code",
   "execution_count": null,
   "metadata": {},
   "outputs": [],
   "source": []
  }
 ],
 "metadata": {
  "kernelspec": {
   "display_name": "Python 3.9.7 ('akihabara_deep')",
   "language": "python",
   "name": "python3"
  },
  "language_info": {
   "codemirror_mode": {
    "name": "ipython",
    "version": 3
   },
   "file_extension": ".py",
   "mimetype": "text/x-python",
   "name": "python",
   "nbconvert_exporter": "python",
   "pygments_lexer": "ipython3",
   "version": "3.9.7"
  },
  "orig_nbformat": 4,
  "vscode": {
   "interpreter": {
    "hash": "daa4b12c7c0dfbea8a86e5c8683f87cd86f2768d8d85b18e100265b2a7dc8fca"
   }
  }
 },
 "nbformat": 4,
 "nbformat_minor": 2
}
