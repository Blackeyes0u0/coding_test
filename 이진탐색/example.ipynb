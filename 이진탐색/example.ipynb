{
 "cells": [
  {
   "cell_type": "markdown",
   "metadata": {},
   "source": [
    "# 순차 탐색 \n",
    "\n",
    "이번 장에서는리ㅅ트 내에서 데이터를 매우 빠르게 탐색하느 ㄴ이진 탐색 알고리즘에 대해서 공부하겟\n",
    "다. 이ㅣㄴ탐색에 대해 알아보기 전에 가장 기본적인 탐색방법인 순차탐색에 대해 먼저 이해해보자.\n",
    "\n",
    "여태까지 n 개의 데이터에대해 그 데이털르 차례대로 하나씩 확인하여 어떻나 처리를 해준 경우가 많았는데 \n",
    "그자체로 이미 순차 탐색이다.\n",
    "\n",
    "Sequential Search    이란 리스트안에 있는 특정한 데이터를 찾기 위해 앞에서 부터 데이터를 하나씩 차례대로 확인하는 방법\n",
    "\n"
   ]
  },
  {
   "cell_type": "code",
   "execution_count": 2,
   "metadata": {},
   "outputs": [
    {
     "name": "stdout",
     "output_type": "stream",
     "text": [
      "3\n"
     ]
    }
   ],
   "source": [
    "# sequential search     code\n",
    "\n",
    "def sequential_search(n, target, array):\n",
    "    for i in range(n):\n",
    "        if array[i]==target:\n",
    "            return i+1\n",
    "input_data = input().split()\n",
    "n = int(input_data[0])\n",
    "target = input_data[1]\n",
    "\n",
    "array = input().split()\n",
    "\n",
    "print(sequential_search(n, target, array))"
   ]
  },
  {
   "cell_type": "code",
   "execution_count": 6,
   "metadata": {},
   "outputs": [
    {
     "data": {
      "text/plain": [
       "3"
      ]
     },
     "execution_count": 6,
     "metadata": {},
     "output_type": "execute_result"
    }
   ],
   "source": [
    "a =3\n",
    "b=4\n",
    "\n",
    "int((a+b)/2)"
   ]
  },
  {
   "cell_type": "markdown",
   "metadata": {},
   "source": []
  },
  {
   "cell_type": "markdown",
   "metadata": {},
   "source": [
    "# Binary Seartch\n",
    "\n",
    "위치를 나타내는  변수 3개를 사용하는데 탐색하고자 하는 범위의 시작점, 끝점 그리고 중간점이다.\n",
    "\n",
    "찾으려는 데이터와 중가점 위치에 있는 데이털르 반복적으로 비교해서 원하는 데이터를 찾는것. 그것이 이진탐색\n"
   ]
  },
  {
   "cell_type": "code",
   "execution_count": 16,
   "metadata": {},
   "outputs": [
    {
     "name": "stdout",
     "output_type": "stream",
     "text": [
      "0 13 6 i j k\n",
      "9 7\n",
      "6 13 9 i j k\n",
      "9 11\n",
      "6 9 7 i j k\n",
      "9 8\n",
      "7 9 8 i j k\n",
      " find target, let's excute! code is  8\n"
     ]
    }
   ],
   "source": [
    "list1 = [1 ,2,3,4,5,6,7,8,9,11,13,15,16]\n",
    "\n",
    "len(list1)\n",
    "\n",
    "i= 0\n",
    "j = len(list1)\n",
    "def binary_search(list,target): #list is sorted\n",
    "    global i, j\n",
    "    k = (i+j)//2\n",
    "    print(i,j,k, \"i j k\")\n",
    "    if target > list[k]:\n",
    "        print(target, list[k])\n",
    "        i=k\n",
    "        binary_search(list,target)\n",
    "    elif target <list[k]:\n",
    "        print(target, list[k])\n",
    "        j=k\n",
    "        binary_search(list,target)\n",
    "    else:\n",
    "        print(\" find target, let's excute! code is \", k)\n",
    "list1 = [1 ,2,3,4,5,6,7,8,9,11,13,15,16]\n",
    "\n",
    "binary_search(list1,9)"
   ]
  },
  {
   "cell_type": "code",
   "execution_count": 9,
   "metadata": {},
   "outputs": [
    {
     "data": {
      "text/plain": [
       "13"
      ]
     },
     "execution_count": 9,
     "metadata": {},
     "output_type": "execute_result"
    }
   ],
   "source": [
    "list1 = [1 ,2,3,4,5,6,7,8,9,11,13,15,16]\n",
    "\n",
    "len(list1)"
   ]
  },
  {
   "cell_type": "code",
   "execution_count": 21,
   "metadata": {},
   "outputs": [
    {
     "name": "stdout",
     "output_type": "stream",
     "text": [
      "None\n"
     ]
    }
   ],
   "source": [
    "def binary_search(array,target, start, end):\n",
    "    if start > end:\n",
    "        return None\n",
    "    mid = (start+end)//2\n",
    "    if array[mid]==target:\n",
    "        return mid\n",
    "    elif array[mid]>target:\n",
    "        return binary_search(array,target,start,mid-1)\n",
    "    else:\n",
    "        binary_search(array,target,mid+1,end)\n",
    "print(binary_search(list1,9,0,12))\n"
   ]
  },
  {
   "cell_type": "code",
   "execution_count": 20,
   "metadata": {},
   "outputs": [
    {
     "data": {
      "text/plain": [
       "8"
      ]
     },
     "execution_count": 20,
     "metadata": {},
     "output_type": "execute_result"
    }
   ],
   "source": [
    "# 반복문을 이용한 이진 탐색 코드\n",
    "\n",
    "def binary_search(array, target, start, end):\n",
    "    while start <= end:\n",
    "        mid = (start+end)//2\n",
    "        if array[mid] ==target:\n",
    "            return mid\n",
    "        elif array[mid]>target:\n",
    "            end = mid -1\n",
    "        else:\n",
    "            start = mid+1\n",
    "    return None\n",
    "binary_search(list1, 9, 0, 12)\n"
   ]
  },
  {
   "cell_type": "markdown",
   "metadata": {},
   "source": [
    " 이진탐색 은 자주 나오니 외우길 바란다. ps 오예~\\\n",
    "\n",
    "# 트리 자료구조\n",
    "\n",
    "이진 탐색은 전제조건이 데이터 정렬이다. 예를 들어 동작하는 프로그램에서 데이터를 정렬해두는 경우가 많으므로 이진 탐색을 효과적으로 사용할수있다. 데이터 베이스는 내부적으로 대용량 데이터 처리에 적합한 \n",
    "tree 자료 구조를 이용하여 항상 데이터가 정렬되어 있다. \n",
    "\n",
    "\n",
    "# 빠르게 입력받기.\n",
    "\n",
    "이진 탐색문제는 입력데이터가 많거나 탐색범위가 넓다. 그래서 탐색 범위으이 크키가 1000억 이상이라면\n",
    "input() 함수를 사용하면 동작 속도가 느려서 시간 초과가되서 오답된다.\n",
    "\n",
    "sys 라이브러리의 readline() 함수를 사용하자. \n",
    "\n",
    "\n"
   ]
  },
  {
   "cell_type": "code",
   "execution_count": 22,
   "metadata": {},
   "outputs": [],
   "source": [
    "# 이진탐색 은 자주 나오니 외우길 바란다. ps 오예~\n",
    "import sys\n",
    "\n",
    "input_data = sys.stdin.readline().rstrip()\n",
    "\n",
    "print(input_data)"
   ]
  },
  {
   "cell_type": "code",
   "execution_count": 24,
   "metadata": {},
   "outputs": [
    {
     "name": "stdout",
     "output_type": "stream",
     "text": [
      "yes yes no "
     ]
    }
   ],
   "source": [
    "n = 5\n",
    "\n",
    "def binary_search(array, target, start, end):\n",
    "    while start <=end:\n",
    "        mid = (start+end)//2\n",
    "        if array[mid]==target:\n",
    "            return mid\n",
    "        elif array[mid] >target:\n",
    "            end = mid -1\n",
    "\n",
    "        else:\n",
    "            start = mid +1\n",
    "    return None\n",
    "array1= [1,2,3,4,6,7,8]\n",
    "x= [3,4 ,5]\n",
    "for i in x:\n",
    "    result = binary_search(array1,i,0,len(array1))\n",
    "    if result !=None:\n",
    "        print('yes', end = ' ')\n",
    "    else:\n",
    "        print('no',end=' ')"
   ]
  },
  {
   "cell_type": "code",
   "execution_count": 25,
   "metadata": {},
   "outputs": [],
   "source": [
    "array1 =[0]*100001\n"
   ]
  },
  {
   "cell_type": "code",
   "execution_count": 50,
   "metadata": {},
   "outputs": [],
   "source": [
    "# 떡볶이 떡 만들기 문제\n",
    "# 문제\n",
    "\n",
    "#떡볶이의 떡ㅇ의 길이가 일정하지않다.\n",
    "# 대신에 한봉지안에 들어가는 떡의 총 길이는 절단기로 잘라서 맞춘다.\n",
    "# 19, 14, 10 ,17 인 떡이 절단기 높이를 15로 지정\n",
    "\n",
    "# 15 14 10 15 가 되고 4 0 0 2 가 남는다\n",
    "# 손님은 6을 가져간다.\n",
    "# 손님이 왔을때 요청한 길이가 m 일때 적어도 m 만큼의 떡을 얻기 위해 절단기에설정할수있는 최댓값\n",
    "\n",
    "n, m = 4, 6\n",
    "\n",
    "list1 = list(map(int,input().split()))\n",
    "\n"
   ]
  },
  {
   "cell_type": "code",
   "execution_count": 100,
   "metadata": {},
   "outputs": [
    {
     "name": "stdout",
     "output_type": "stream",
     "text": [
      "[19 15 10 17] list11111\n",
      "61 sum1111\n",
      "13 target\n",
      "13 total sum!!!!!!\n",
      "9 total sum!!!!!!\n",
      "5 total sum!!!!!!\n",
      "1 total sum!!!!!!\n",
      "-3 total sum!!!!!!\n",
      "15 i finde target\n",
      "13 total sum!!!!!!\n",
      "12 i finde target\n",
      "None 12\n"
     ]
    }
   ],
   "source": [
    "\n",
    "import numpy as np\n",
    "\n",
    "print(list1, 'list11111')\n",
    "\n",
    "sum1=0\n",
    "\n",
    "for j in list1:\n",
    "    sum1+=j\n",
    "print(sum1,\"sum1111\")\n",
    "\n",
    "\n",
    "target = (sum1-m)//n\n",
    "print(target,\"target\" )\n",
    "def dduck(n,m,list1,target):\n",
    "    total_sum= np.sum(np.array(list1)-target)\n",
    "    print(total_sum,\"total sum!!!!!!\" )\n",
    "    if total_sum > 0:\n",
    "        dduck(n,m,list1,target+1)\n",
    "    if total_sum <=0:\n",
    "        #dduck(n,m,list1,target-1)\n",
    "        print(target-1, \"i finde target\")\n",
    "        return target-1\n",
    "    #return None\n",
    "\n",
    "def dduck2(n,m,list1,target):\n",
    "    total_sum= np.sum(np.array(list1)-target)\n",
    "    print(total_sum,\"total sum!!!!!!\" )\n",
    "    if total_sum < 0:\n",
    "        dduck2(n,m,list1,target-1)\n",
    "    if total_sum >= 0:\n",
    "        #dduck(n,m,list1,target-1)\n",
    "        print(target, \"i finde target\")\n",
    "        return target\n",
    "    #return None\n",
    "\n",
    "x1=dduck(4,6,list1,12)\n",
    "\n",
    "x2=dduck2(4,6,list1,12)\n",
    "print(x1,x2)\n",
    "#print( max(x1,x2))\n"
   ]
  },
  {
   "cell_type": "markdown",
   "metadata": {},
   "source": [
    "전형적인 이진 탐색 문제이자, 파라메트릭 서치유형의 문제이다\n",
    "ㅍ파라 메트릭 서치는 최적화 문제를 결정 문제로 바꾸어 해결한는 기법이다. 원하는 조건을 만족하는 가장 알맞은 값을 찾는 문제에 주로 파라메트릭 서치를 사용한다. 예를 들어 범위 내에서 조건을 만족한느 가장 큰값을 찾으라는 문제라면 이진 탐색으로 결정 문제를 해결하면서 범위를 좁혀갈수있다. 코딩 테스트나 프밍 대회에서는 보통 파라메트릭 서치 유형은 이진탐색사용\n",
    "\n"
   ]
  },
  {
   "cell_type": "code",
   "execution_count": 60,
   "metadata": {},
   "outputs": [
    {
     "name": "stdout",
     "output_type": "stream",
     "text": [
      "[1 2 3]\n",
      "6\n"
     ]
    }
   ],
   "source": [
    "list3= np.array([1,2,3])\n",
    "print(list3)\n",
    "\n",
    "print(np.sum(list3))"
   ]
  },
  {
   "cell_type": "code",
   "execution_count": 87,
   "metadata": {},
   "outputs": [
    {
     "name": "stdout",
     "output_type": "stream",
     "text": [
      "-831 total sum!!!!!!\n",
      "-827 total sum!!!!!!\n",
      "-823 total sum!!!!!!\n",
      "-819 total sum!!!!!!\n",
      "-815 total sum!!!!!!\n",
      "-811 total sum!!!!!!\n",
      "-807 total sum!!!!!!\n",
      "-803 total sum!!!!!!\n",
      "-799 total sum!!!!!!\n",
      "-795 total sum!!!!!!\n",
      "-791 total sum!!!!!!\n",
      "-787 total sum!!!!!!\n",
      "-783 total sum!!!!!!\n",
      "-779 total sum!!!!!!\n",
      "-775 total sum!!!!!!\n",
      "-771 total sum!!!!!!\n",
      "-767 total sum!!!!!!\n",
      "-763 total sum!!!!!!\n",
      "-759 total sum!!!!!!\n",
      "-755 total sum!!!!!!\n",
      "-751 total sum!!!!!!\n",
      "-747 total sum!!!!!!\n",
      "-743 total sum!!!!!!\n",
      "-739 total sum!!!!!!\n",
      "-735 total sum!!!!!!\n",
      "-731 total sum!!!!!!\n",
      "-727 total sum!!!!!!\n",
      "-723 total sum!!!!!!\n",
      "-719 total sum!!!!!!\n",
      "-715 total sum!!!!!!\n",
      "-711 total sum!!!!!!\n",
      "-707 total sum!!!!!!\n",
      "-703 total sum!!!!!!\n",
      "-699 total sum!!!!!!\n",
      "-695 total sum!!!!!!\n",
      "-691 total sum!!!!!!\n",
      "-687 total sum!!!!!!\n",
      "-683 total sum!!!!!!\n",
      "-679 total sum!!!!!!\n",
      "-675 total sum!!!!!!\n",
      "-671 total sum!!!!!!\n",
      "-667 total sum!!!!!!\n",
      "-663 total sum!!!!!!\n",
      "-659 total sum!!!!!!\n",
      "-655 total sum!!!!!!\n",
      "-651 total sum!!!!!!\n",
      "-647 total sum!!!!!!\n",
      "-643 total sum!!!!!!\n",
      "-639 total sum!!!!!!\n",
      "-635 total sum!!!!!!\n",
      "-631 total sum!!!!!!\n",
      "-627 total sum!!!!!!\n",
      "-623 total sum!!!!!!\n",
      "-619 total sum!!!!!!\n",
      "-615 total sum!!!!!!\n",
      "-611 total sum!!!!!!\n",
      "-607 total sum!!!!!!\n",
      "-603 total sum!!!!!!\n",
      "-599 total sum!!!!!!\n",
      "-595 total sum!!!!!!\n",
      "-591 total sum!!!!!!\n",
      "-587 total sum!!!!!!\n",
      "-583 total sum!!!!!!\n",
      "-579 total sum!!!!!!\n",
      "-575 total sum!!!!!!\n",
      "-571 total sum!!!!!!\n",
      "-567 total sum!!!!!!\n",
      "-563 total sum!!!!!!\n",
      "-559 total sum!!!!!!\n",
      "-555 total sum!!!!!!\n",
      "-551 total sum!!!!!!\n",
      "-547 total sum!!!!!!\n",
      "-543 total sum!!!!!!\n",
      "-539 total sum!!!!!!\n",
      "-535 total sum!!!!!!\n",
      "-531 total sum!!!!!!\n",
      "-527 total sum!!!!!!\n",
      "-523 total sum!!!!!!\n",
      "-519 total sum!!!!!!\n",
      "-515 total sum!!!!!!\n",
      "-511 total sum!!!!!!\n",
      "-507 total sum!!!!!!\n",
      "-503 total sum!!!!!!\n",
      "-499 total sum!!!!!!\n",
      "-495 total sum!!!!!!\n",
      "-491 total sum!!!!!!\n",
      "-487 total sum!!!!!!\n",
      "-483 total sum!!!!!!\n",
      "-479 total sum!!!!!!\n",
      "-475 total sum!!!!!!\n",
      "-471 total sum!!!!!!\n",
      "-467 total sum!!!!!!\n",
      "-463 total sum!!!!!!\n",
      "-459 total sum!!!!!!\n",
      "-455 total sum!!!!!!\n",
      "-451 total sum!!!!!!\n",
      "-447 total sum!!!!!!\n",
      "-443 total sum!!!!!!\n",
      "-439 total sum!!!!!!\n",
      "-435 total sum!!!!!!\n",
      "-431 total sum!!!!!!\n",
      "-427 total sum!!!!!!\n",
      "-423 total sum!!!!!!\n",
      "-419 total sum!!!!!!\n",
      "-415 total sum!!!!!!\n",
      "-411 total sum!!!!!!\n",
      "-407 total sum!!!!!!\n",
      "-403 total sum!!!!!!\n",
      "-399 total sum!!!!!!\n",
      "-395 total sum!!!!!!\n",
      "-391 total sum!!!!!!\n",
      "-387 total sum!!!!!!\n",
      "-383 total sum!!!!!!\n",
      "-379 total sum!!!!!!\n",
      "-375 total sum!!!!!!\n",
      "-371 total sum!!!!!!\n",
      "-367 total sum!!!!!!\n",
      "-363 total sum!!!!!!\n",
      "-359 total sum!!!!!!\n",
      "-355 total sum!!!!!!\n",
      "-351 total sum!!!!!!\n",
      "-347 total sum!!!!!!\n",
      "-343 total sum!!!!!!\n",
      "-339 total sum!!!!!!\n",
      "-335 total sum!!!!!!\n",
      "-331 total sum!!!!!!\n",
      "-327 total sum!!!!!!\n",
      "-323 total sum!!!!!!\n",
      "-319 total sum!!!!!!\n",
      "-315 total sum!!!!!!\n",
      "-311 total sum!!!!!!\n",
      "-307 total sum!!!!!!\n",
      "-303 total sum!!!!!!\n",
      "-299 total sum!!!!!!\n",
      "-295 total sum!!!!!!\n",
      "-291 total sum!!!!!!\n",
      "-287 total sum!!!!!!\n",
      "-283 total sum!!!!!!\n",
      "-279 total sum!!!!!!\n",
      "-275 total sum!!!!!!\n",
      "-271 total sum!!!!!!\n",
      "-267 total sum!!!!!!\n",
      "-263 total sum!!!!!!\n",
      "-259 total sum!!!!!!\n",
      "-255 total sum!!!!!!\n",
      "-251 total sum!!!!!!\n",
      "-247 total sum!!!!!!\n",
      "-243 total sum!!!!!!\n",
      "-239 total sum!!!!!!\n",
      "-235 total sum!!!!!!\n",
      "-231 total sum!!!!!!\n",
      "-227 total sum!!!!!!\n",
      "-223 total sum!!!!!!\n",
      "-219 total sum!!!!!!\n",
      "-215 total sum!!!!!!\n",
      "-211 total sum!!!!!!\n",
      "-207 total sum!!!!!!\n",
      "-203 total sum!!!!!!\n",
      "-199 total sum!!!!!!\n",
      "-195 total sum!!!!!!\n",
      "-191 total sum!!!!!!\n",
      "-187 total sum!!!!!!\n",
      "-183 total sum!!!!!!\n",
      "-179 total sum!!!!!!\n",
      "-175 total sum!!!!!!\n",
      "-171 total sum!!!!!!\n",
      "-167 total sum!!!!!!\n",
      "-163 total sum!!!!!!\n",
      "-159 total sum!!!!!!\n",
      "-155 total sum!!!!!!\n",
      "-151 total sum!!!!!!\n",
      "-147 total sum!!!!!!\n",
      "-143 total sum!!!!!!\n",
      "-139 total sum!!!!!!\n",
      "-135 total sum!!!!!!\n",
      "-131 total sum!!!!!!\n",
      "-127 total sum!!!!!!\n",
      "-123 total sum!!!!!!\n",
      "-119 total sum!!!!!!\n",
      "-115 total sum!!!!!!\n",
      "-111 total sum!!!!!!\n",
      "-107 total sum!!!!!!\n",
      "-103 total sum!!!!!!\n",
      "-99 total sum!!!!!!\n",
      "-95 total sum!!!!!!\n",
      "-91 total sum!!!!!!\n",
      "-87 total sum!!!!!!\n",
      "-83 total sum!!!!!!\n",
      "-79 total sum!!!!!!\n",
      "-75 total sum!!!!!!\n",
      "-71 total sum!!!!!!\n",
      "-67 total sum!!!!!!\n",
      "-63 total sum!!!!!!\n",
      "-59 total sum!!!!!!\n",
      "-55 total sum!!!!!!\n",
      "-51 total sum!!!!!!\n",
      "-47 total sum!!!!!!\n",
      "-43 total sum!!!!!!\n",
      "-39 total sum!!!!!!\n",
      "-35 total sum!!!!!!\n",
      "-31 total sum!!!!!!\n",
      "-27 total sum!!!!!!\n",
      "-23 total sum!!!!!!\n",
      "-19 total sum!!!!!!\n",
      "-15 total sum!!!!!!\n",
      "-11 total sum!!!!!!\n",
      "-7 total sum!!!!!!\n",
      "-3 total sum!!!!!!\n",
      "1 total sum!!!!!!\n",
      "15 i finde target\n"
     ]
    }
   ],
   "source": [
    "def dduck2(n,m,list1,target):\n",
    "    total_sum= np.sum(np.array(list1)-target)\n",
    "    print(total_sum,\"total sum!!!!!!\" )\n",
    "    if total_sum < 0:\n",
    "        dduck2(n,m,list1,target-1)\n",
    "    if total_sum >= 0:\n",
    "        #dduck(n,m,list1,target-1)\n",
    "        print(target, \"i finde target\")\n",
    "\n",
    "#dduck(4,6,list1,12)\n",
    "dduck2(4,6,list1,23)"
   ]
  },
  {
   "cell_type": "code",
   "execution_count": 101,
   "metadata": {},
   "outputs": [
    {
     "name": "stdout",
     "output_type": "stream",
     "text": [
      "14\n"
     ]
    }
   ],
   "source": [
    "## source code\n",
    "# n,m = list(map(int,input().split()))\n",
    "# array = list(map(int,input().split()))\n",
    "array = [15,14,13,19]\n",
    "start = 0\n",
    "\n",
    "end =max(array)\n",
    "\n",
    "result =0\n",
    "\n",
    "while (start<=end):\n",
    "    total =0\n",
    "    mid = (start+end)//2\n",
    "    for x in array:\n",
    "        if x >mid:\n",
    "            total+=x-mid\n",
    "    if total <m:\n",
    "        end = mid-1\n",
    "    else:\n",
    "        result = mid\n",
    "        start = mid+1\n",
    "\n",
    "print(result)\n"
   ]
  },
  {
   "cell_type": "code",
   "execution_count": null,
   "metadata": {},
   "outputs": [],
   "source": []
  }
 ],
 "metadata": {
  "kernelspec": {
   "display_name": "Python 3.9.7 ('akihabara_deep')",
   "language": "python",
   "name": "python3"
  },
  "language_info": {
   "codemirror_mode": {
    "name": "ipython",
    "version": 3
   },
   "file_extension": ".py",
   "mimetype": "text/x-python",
   "name": "python",
   "nbconvert_exporter": "python",
   "pygments_lexer": "ipython3",
   "version": "3.9.7"
  },
  "orig_nbformat": 4,
  "vscode": {
   "interpreter": {
    "hash": "daa4b12c7c0dfbea8a86e5c8683f87cd86f2768d8d85b18e100265b2a7dc8fca"
   }
  }
 },
 "nbformat": 4,
 "nbformat_minor": 2
}
