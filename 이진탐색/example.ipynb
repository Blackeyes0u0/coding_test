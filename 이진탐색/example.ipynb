{
 "cells": [
  {
   "cell_type": "markdown",
   "metadata": {},
   "source": [
    "# 순차 탐색 \n",
    "\n",
    "이번 장에서는리ㅅ트 내에서 데이터를 매우 빠르게 탐색하느 ㄴ이진 탐색 알고리즘에 대해서 공부하겟\n",
    "다. 이ㅣㄴ탐색에 대해 알아보기 전에 가장 기본적인 탐색방법인 순차탐색에 대해 먼저 이해해보자.\n",
    "\n",
    "여태까지 n 개의 데이터에대해 그 데이털르 차례대로 하나씩 확인하여 어떻나 처리를 해준 경우가 많았는데 \n",
    "그자체로 이미 순차 탐색이다.\n",
    "\n",
    "Sequential Search    이란 리스트안에 있는 특정한 데이터를 찾기 위해 앞에서 부터 데이터를 하나씩 차례대로 확인하는 방법\n",
    "\n"
   ]
  },
  {
   "cell_type": "code",
   "execution_count": 2,
   "metadata": {},
   "outputs": [
    {
     "name": "stdout",
     "output_type": "stream",
     "text": [
      "3\n"
     ]
    }
   ],
   "source": [
    "# sequential search     code\n",
    "\n",
    "def sequential_search(n, target, array):\n",
    "    for i in range(n):\n",
    "        if array[i]==target:\n",
    "            return i+1\n",
    "input_data = input().split()\n",
    "n = int(input_data[0])\n",
    "target = input_data[1]\n",
    "\n",
    "array = input().split()\n",
    "\n",
    "print(sequential_search(n, target, array))"
   ]
  },
  {
   "cell_type": "code",
   "execution_count": 6,
   "metadata": {},
   "outputs": [
    {
     "data": {
      "text/plain": [
       "3"
      ]
     },
     "execution_count": 6,
     "metadata": {},
     "output_type": "execute_result"
    }
   ],
   "source": [
    "a =3\n",
    "b=4\n",
    "\n",
    "int((a+b)/2)"
   ]
  },
  {
   "cell_type": "markdown",
   "metadata": {},
   "source": []
  },
  {
   "cell_type": "markdown",
   "metadata": {},
   "source": [
    "# Binary Seartch\n",
    "\n",
    "위치를 나타내는  변수 3개를 사용하는데 탐색하고자 하는 범위의 시작점, 끝점 그리고 중간점이다.\n",
    "\n",
    "찾으려는 데이터와 중가점 위치에 있는 데이털르 반복적으로 비교해서 원하는 데이터를 찾는것. 그것이 이진탐색\n"
   ]
  },
  {
   "cell_type": "code",
   "execution_count": 16,
   "metadata": {},
   "outputs": [
    {
     "name": "stdout",
     "output_type": "stream",
     "text": [
      "0 13 6 i j k\n",
      "9 7\n",
      "6 13 9 i j k\n",
      "9 11\n",
      "6 9 7 i j k\n",
      "9 8\n",
      "7 9 8 i j k\n",
      " find target, let's excute! code is  8\n"
     ]
    }
   ],
   "source": [
    "list1 = [1 ,2,3,4,5,6,7,8,9,11,13,15,16]\n",
    "\n",
    "len(list1)\n",
    "\n",
    "i= 0\n",
    "j = len(list1)\n",
    "def binary_search(list,target): #list is sorted\n",
    "    global i, j\n",
    "    k = (i+j)//2\n",
    "    print(i,j,k, \"i j k\")\n",
    "    if target > list[k]:\n",
    "        print(target, list[k])\n",
    "        i=k\n",
    "        binary_search(list,target)\n",
    "    elif target <list[k]:\n",
    "        print(target, list[k])\n",
    "        j=k\n",
    "        binary_search(list,target)\n",
    "    else:\n",
    "        print(\" find target, let's excute! code is \", k)\n",
    "list1 = [1 ,2,3,4,5,6,7,8,9,11,13,15,16]\n",
    "\n",
    "binary_search(list1,9)"
   ]
  },
  {
   "cell_type": "code",
   "execution_count": 9,
   "metadata": {},
   "outputs": [
    {
     "data": {
      "text/plain": [
       "13"
      ]
     },
     "execution_count": 9,
     "metadata": {},
     "output_type": "execute_result"
    }
   ],
   "source": [
    "list1 = [1 ,2,3,4,5,6,7,8,9,11,13,15,16]\n",
    "\n",
    "len(list1)"
   ]
  },
  {
   "cell_type": "code",
   "execution_count": 21,
   "metadata": {},
   "outputs": [
    {
     "name": "stdout",
     "output_type": "stream",
     "text": [
      "None\n"
     ]
    }
   ],
   "source": [
    "def binary_search(array,target, start, end):\n",
    "    if start > end:\n",
    "        return None\n",
    "    mid = (start+end)//2\n",
    "    if array[mid]==target:\n",
    "        return mid\n",
    "    elif array[mid]>target:\n",
    "        return binary_search(array,target,start,mid-1)\n",
    "    else:\n",
    "        binary_search(array,target,mid+1,end)\n",
    "print(binary_search(list1,9,0,12))\n"
   ]
  },
  {
   "cell_type": "code",
   "execution_count": 20,
   "metadata": {},
   "outputs": [
    {
     "data": {
      "text/plain": [
       "8"
      ]
     },
     "execution_count": 20,
     "metadata": {},
     "output_type": "execute_result"
    }
   ],
   "source": [
    "# 반복문을 이용한 이진 탐색 코드\n",
    "\n",
    "def binary_search(array, target, start, end):\n",
    "    while start <= end:\n",
    "        mid = (start+end)//2\n",
    "        if array[mid] ==target:\n",
    "            return mid\n",
    "        elif array[mid]>target:\n",
    "            end = mid -1\n",
    "        else:\n",
    "            start = mid+1\n",
    "    return None\n",
    "binary_search(list1, 9, 0, 12)\n"
   ]
  },
  {
   "cell_type": "markdown",
   "metadata": {},
   "source": [
    " 이진탐색 은 자주 나오니 외우길 바란다. ps 오예~\\\n",
    "\n",
    "# 트리 자료구조\n",
    "\n",
    "이진 탐색은 전제조건이 데이터 정렬이다. 예를 들어 동작하는 프로그램에서 데이터를 정렬해두는 경우가 많으므로 이진 탐색을 효과적으로 사용할수있다. 데이터 베이스는 내부적으로 대용량 데이터 처리에 적합한 \n",
    "tree 자료 구조를 이용하여 항상 데이터가 정렬되어 있다. \n",
    "\n",
    "\n",
    "# 빠르게 입력받기.\n",
    "\n",
    "이진 탐색문제는 입력데이터가 많거나 탐색범위가 넓다. 그래서 탐색 범위으이 크키가 1000억 이상이라면\n",
    "input() 함수를 사용하면 동작 속도가 느려서 시간 초과가되서 오답된다.\n",
    "\n",
    "sys 라이브러리의 readline() 함수를 사용하자. \n",
    "\n",
    "\n"
   ]
  },
  {
   "cell_type": "code",
   "execution_count": 22,
   "metadata": {},
   "outputs": [],
   "source": [
    "# 이진탐색 은 자주 나오니 외우길 바란다. ps 오예~\n",
    "import sys\n",
    "\n",
    "input_data = sys.stdin.readline().rstrip()\n",
    "\n",
    "print(input_data)"
   ]
  },
  {
   "cell_type": "code",
   "execution_count": 23,
   "metadata": {},
   "outputs": [],
   "source": [
    "n = 5\n",
    "\n",
    "def binary_search(array, target, start, end):\n",
    "    while start <=end:\n",
    "        mid = (start+end)//2\n",
    "        if array[mid]==target:\n",
    "            return mid\n",
    "        elif array[mid] >target:\n",
    "            end = mid -1\n",
    "\n",
    "        else:\n",
    "            start = mid +1\n",
    "    return None\n",
    "array1= [1,2,3,4,6,]\n",
    "x= [3,4 ,5]\n",
    "for i in x:\n"
   ]
  },
  {
   "cell_type": "code",
   "execution_count": null,
   "metadata": {},
   "outputs": [],
   "source": []
  }
 ],
 "metadata": {
  "kernelspec": {
   "display_name": "Python 3.9.7 ('akihabara_deep')",
   "language": "python",
   "name": "python3"
  },
  "language_info": {
   "codemirror_mode": {
    "name": "ipython",
    "version": 3
   },
   "file_extension": ".py",
   "mimetype": "text/x-python",
   "name": "python",
   "nbconvert_exporter": "python",
   "pygments_lexer": "ipython3",
   "version": "3.9.7"
  },
  "orig_nbformat": 4,
  "vscode": {
   "interpreter": {
    "hash": "daa4b12c7c0dfbea8a86e5c8683f87cd86f2768d8d85b18e100265b2a7dc8fca"
   }
  }
 },
 "nbformat": 4,
 "nbformat_minor": 2
}
