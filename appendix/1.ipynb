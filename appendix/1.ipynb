{
 "cells": [
  {
   "cell_type": "markdown",
   "metadata": {},
   "source": [
    "# 자료형\n",
    "\n",
    "알고리즘 문제 풀이를 포함하여 모든프로그래밍은 결국 데이털를 다루흔 행위인 만큼, 자료형에 대한 잉해는 프로그래밍의 길에 있어서의 첫걸음이라고 할수잇따. 파이선"
   ]
  },
  {
   "cell_type": "code",
   "execution_count": 3,
   "metadata": {},
   "outputs": [
    {
     "name": "stdout",
     "output_type": "stream",
     "text": [
      "1000.0\n",
      "3.912\n"
     ]
    }
   ],
   "source": [
    "print(1e3)\n",
    "print(3912e-3)"
   ]
  },
  {
   "cell_type": "code",
   "execution_count": 7,
   "metadata": {},
   "outputs": [
    {
     "name": "stdout",
     "output_type": "stream",
     "text": [
      "0.8999999999999999\n",
      "False\n"
     ]
    },
    {
     "data": {
      "text/plain": [
       "123.46"
      ]
     },
     "execution_count": 7,
     "metadata": {},
     "output_type": "execute_result"
    }
   ],
   "source": [
    "print( .3+.6)\n",
    "\n",
    "a= .3+.6\n",
    "if a==0.9:\n",
    "    print(True)\n",
    "else:\n",
    "    print(False)\n",
    "\n",
    "round(123.45678,2)\n"
   ]
  },
  {
   "cell_type": "markdown",
   "metadata": {},
   "source": [
    "# list  자료형\n",
    "\n",
    "리스트는 여러개의 데이터를 연속적으로 담아 처리하기 위해 사용할 수있따. 파이썬의 리스트 자료형ㅇ은 array 기능을 포함하고 있으며, 내부적으로 연결리스트 자료구조를 채택하고 있어서 append() remove() 등의 메서드를 지원한다.\n",
    "\n",
    "- 리스트의 인덱싱과 슬라이싱\n",
    "\n",
    "인덱스 값을 입력하여 리스트이 특정한 원소에 접근하는것을 인덱싱이라고 한다. 파이썬의 인덱스 값은 양의 정수오 ㅏ음의 정수를 모두 사용가능하다.\n",
    "\n"
   ]
  },
  {
   "cell_type": "code",
   "execution_count": 12,
   "metadata": {},
   "outputs": [
    {
     "name": "stdout",
     "output_type": "stream",
     "text": [
      "9\n",
      "7\n",
      "[0, 1, 2, 7, 4, 5, 6, 7, 8, 9]\n"
     ]
    }
   ],
   "source": [
    "a = [0,1,2,3,4,5,6,7,8,9]\n",
    "\n",
    "print(a[-1])\n",
    "\n",
    "print(a[-3])\n",
    "\n",
    "a[3] =7\n",
    "\n",
    "print(a)\n",
    "\n",
    "a[3] =3"
   ]
  },
  {
   "cell_type": "code",
   "execution_count": 13,
   "metadata": {},
   "outputs": [
    {
     "data": {
      "text/plain": [
       "[1, 2, 3]"
      ]
     },
     "execution_count": 13,
     "metadata": {},
     "output_type": "execute_result"
    }
   ],
   "source": [
    "a[1:4]"
   ]
  },
  {
   "cell_type": "code",
   "execution_count": 16,
   "metadata": {},
   "outputs": [
    {
     "data": {
      "text/plain": [
       "[0, 2, 4, 6, 8, 10, 12, 14, 16, 18]"
      ]
     },
     "execution_count": 16,
     "metadata": {},
     "output_type": "execute_result"
    }
   ],
   "source": [
    "# list comprehention\n",
    "\n",
    "array1 = [i for i in range(20) if i%2==0]\n",
    "array1"
   ]
  },
  {
   "cell_type": "code",
   "execution_count": 17,
   "metadata": {},
   "outputs": [
    {
     "data": {
      "text/plain": [
       "[[0, 0, 0, 0], [0, 0, 0, 0], [0, 0, 0, 0]]"
      ]
     },
     "execution_count": 17,
     "metadata": {},
     "output_type": "execute_result"
    }
   ],
   "source": [
    "# nxm 크기의 리스트 \n",
    "\n",
    "n,m =3,4\n",
    "\n",
    "array2 =[ [0]*m for _ in range(n)]\n",
    "array2"
   ]
  },
  {
   "cell_type": "code",
   "execution_count": 31,
   "metadata": {},
   "outputs": [
    {
     "name": "stdout",
     "output_type": "stream",
     "text": [
      "[3, 2, 1, 0, 4]\n",
      "[0, 1, 2, 3, 4]\n",
      "[0, 7, 6, 7, 7, 1, 2, 3, 4]\n",
      "[0, 6, 7, 7, 1, 2, 3, 4]\n"
     ]
    }
   ],
   "source": [
    "list1 = [3,2,1,0]\n",
    "list1.append(4)\n",
    "print(list1)\n",
    "list1.sort(reverse=False)\n",
    "print(list1)\n",
    "list1.insert(1,7) # 뒤로 하나씩 밀려나낟\n",
    "list1.insert(1,7)\n",
    "list1.insert(1,6)\n",
    "list1.insert(1,7)\n",
    "print(list1)\n",
    "list1.count(7)\n",
    "list1.remove(7) #여러개여도 하나만 제거됨\n",
    "print(list1)"
   ]
  },
  {
   "cell_type": "code",
   "execution_count": 34,
   "metadata": {},
   "outputs": [
    {
     "data": {
      "text/plain": [
       "[1, 2, 6, 7]"
      ]
     },
     "execution_count": 34,
     "metadata": {},
     "output_type": "execute_result"
    }
   ],
   "source": [
    "a = [1,2,3,4,5,6,7]\n",
    "remove_set = {3,4,5}\n",
    "b = [i for i in a if i not in remove_set]\n",
    "b"
   ]
  },
  {
   "cell_type": "code",
   "execution_count": 38,
   "metadata": {},
   "outputs": [
    {
     "name": "stdout",
     "output_type": "stream",
     "text": [
      "hello world\n",
      "dont you konw \"python\"?\n",
      "hello python\n"
     ]
    }
   ],
   "source": [
    "data = \"hello world\"\n",
    "\n",
    "print(data)\n",
    "\n",
    "data = \"dont you konw \\\"python\\\"?\"\n",
    "\n",
    "print(data)\n",
    "\n",
    "a= \"hello\"\n",
    "b=\"python\"\n",
    "\n",
    "print(a+\" \"+b)"
   ]
  },
  {
   "cell_type": "code",
   "execution_count": 41,
   "metadata": {},
   "outputs": [
    {
     "name": "stdout",
     "output_type": "stream",
     "text": [
      "cd\n"
     ]
    },
    {
     "data": {
      "text/plain": [
       "'cd'"
      ]
     },
     "execution_count": 41,
     "metadata": {},
     "output_type": "execute_result"
    }
   ],
   "source": [
    "a= \"abcdef\"\n",
    "print(a[2:4])\n",
    "a[2:4]"
   ]
  },
  {
   "cell_type": "code",
   "execution_count": 59,
   "metadata": {},
   "outputs": [
    {
     "name": "stdout",
     "output_type": "stream",
     "text": [
      "{1, 2, 3, 4, 5, 6, 7}\n",
      "{3, 4, 5}\n",
      "{1, 2}\n",
      "{1}\n",
      "{1, 2, 3, 4, 5, 10}\n",
      "{1, 2, 3, 4, 5, 100, 101, 103, 104, 10}\n"
     ]
    }
   ],
   "source": [
    "# set\n",
    "\n",
    "a = set([1,2,3,4,5])\n",
    "b= set([3,4,5,6,7])\n",
    "\n",
    "print(a|b) #합집합\n",
    "print(a&b) #교집합\n",
    "print(a-b) #차집합\n",
    "\n",
    "c = {4,4,5,2,3,4,7}\n",
    "\n",
    "print(a-c)\n",
    "type(b)\n",
    "type(c)\n",
    "\n",
    "a.add(10)\n",
    "#d= [77,88,99]\n",
    "\n",
    "#a.update(d)\n",
    "print(a)\n",
    "\n",
    "a.update([100,101,103,104])\n",
    "print(a)\n"
   ]
  },
  {
   "cell_type": "code",
   "execution_count": null,
   "metadata": {},
   "outputs": [],
   "source": [
    "github.com/ndb796/Python-Competitive-Programming-Team-Notes"
   ]
  }
 ],
 "metadata": {
  "kernelspec": {
   "display_name": "Python 3.9.7 ('base')",
   "language": "python",
   "name": "python3"
  },
  "language_info": {
   "codemirror_mode": {
    "name": "ipython",
    "version": 3
   },
   "file_extension": ".py",
   "mimetype": "text/x-python",
   "name": "python",
   "nbconvert_exporter": "python",
   "pygments_lexer": "ipython3",
   "version": "3.9.7"
  },
  "orig_nbformat": 4,
  "vscode": {
   "interpreter": {
    "hash": "02f754aef147fb776b997ef6bbe552e658e71e385d24e6d441d7a23703ccddb1"
   }
  }
 },
 "nbformat": 4,
 "nbformat_minor": 2
}
