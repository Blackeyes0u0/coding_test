{
 "cells": [
  {
   "cell_type": "markdown",
   "metadata": {},
   "source": [
    "# 다양한 그래프 알고리즘\n",
    "\n",
    "graph - node ,edge 의 정보를 가지고 있는 자료구조\n",
    "\n",
    "알고리즘 문제 = 서로다른 객체 연결. => 그래프\n",
    "\n",
    "adjacency matrix    2차원 배열 사용\n",
    "\n",
    "adjacency list 리스트 사용하는 방식\n",
    "\n",
    "2가지 그래프 알고리즘에서 매우 많이 사용된다. 두 방식은 메모리와 속도 측면에서 구별된다.\n",
    "\n",
    "# 서로소 집합  \n",
    ": 공통 원소가 없는 두 집합\n",
    "\n",
    "union , find 2개의 연산으로 조작할수있다.\n",
    "\n",
    "\n",
    "1. union 연산을 확인하여, 서로 연결된 두 노드 A,B를 확인\n",
    "   1. 루트노드 를 각각 찾는다\n",
    "   2.  A 를 B의 부모 노드로 설정\n",
    "   \n",
    "2. 모든 union 연산을 처리할때까지 1번과정 반복\n",
    "\n",
    "이것이 트리를 이용해 서로소 집합을 게산 하는 알고리즘이다.\n",
    "\n",
    "union 1,4 \n",
    "union 2,3   #2가 3의 부모노드 방향   3->2 화살표.\n",
    "ㅋㅋㅋㅋㅋㅋㄴㅃ14w321`'// ㅡ,"
   ]
  },
  {
   "cell_type": "code",
   "execution_count": 1,
   "metadata": {},
   "outputs": [
    {
     "name": "stdout",
     "output_type": "stream",
     "text": [
      "각 원소가 속한 집합: 1 1 1 1 5 5 \n",
      " parent table :  1 1 2 1 5 5 "
     ]
    }
   ],
   "source": [
    "# 특정 원소가 속한 집합 찾기\n",
    "\n",
    "def find_parent(parent, x):\n",
    "    if parent[x] !=x:\n",
    "        return find_parent(parent,parent[x])\n",
    "    return x\n",
    "\n",
    "def union_parent(parent,a,b):\n",
    "    a = find_parent(parent,a)\n",
    "    b = find_parent(parent,b)\n",
    "\n",
    "    if a <b :\n",
    "        parent[b]=a\n",
    "    else:\n",
    "        parent[a] =b\n",
    "    \n",
    "    # node 개수 간선개수 입력\n",
    "\n",
    "v, e = map(int,input().split())\n",
    "\n",
    "parent = [0]*(v+1) \n",
    "\n",
    "for i in range(1,v+1):\n",
    "    parent[i] = i\n",
    "for i in range(e):\n",
    "    a, b = map(int,input().split())\n",
    "    union_parent(parent,a,b)\n",
    "\n",
    "print('각 원소가 속한 집합:', end=' ')\n",
    "for i in range(1, v+1):\n",
    "    print(find_parent(parent,i),end=' ')\n",
    "print()\n",
    "\n",
    "print(\" parent table : \", end = \" \")\n",
    "\n",
    "for i in range( 1,v+1):\n",
    "    print(parent[i] , end = \" \")"
   ]
  },
  {
   "cell_type": "code",
   "execution_count": 2,
   "metadata": {},
   "outputs": [],
   "source": [
    "# 경로 압축 기법. -> 시간 복잡도 개선\n",
    "\n",
    "def find_parent(parent,x):\n",
    "    if parent[x] !=x:\n",
    "        parent[x]=find_parent(parent,parent[x])\n",
    "    return parent[x]"
   ]
  },
  {
   "cell_type": "code",
   "execution_count": 4,
   "metadata": {},
   "outputs": [
    {
     "data": {
      "text/plain": [
       "\" \\n정렬 알고리즘이다. 순서가 정해져 있는 일련의 작업을 차례대로 수행해야 할때 사용\\n\\n방향 그래프의 모든 노드를 '방향성에 거스르지 않도록 순서대로 나열'\\n\\n예시) 선수과목을 고려한 학습순서 설정 \\n\\n\\n\""
      ]
     },
     "execution_count": 4,
     "metadata": {},
     "output_type": "execute_result"
    }
   ],
   "source": [
    "# 서로소 집합 알고리즘으 시간 복잡도\n",
    "\n",
    "\"\"\" \n",
    "서로소 집합 알고리즘을 구현할때, 경로 압축 방법만을 이용하는 경우 시간복잡도를 알아보자.\n",
    "\n",
    "노드의 개수가 v 최대 v-1 개의 연산과 m개의 find 연산이 가능할때 경로 압축방법.\n",
    "\n",
    "# 서로소 집합을 활용한 사이클 판별\n",
    "\n",
    "서로소 집합은 다양한 알고리즘에 사용될수 있다. \n",
    "특히 서로소 집합은 무방향 그래프 내에서의 사이클을 판별할때 사용할수있다는 특징\n",
    "\n",
    "# 신장 트리 spanning tree\n",
    "\n",
    "하나의 그래프가 있을때 모든 노드를 포함하면서 사이클이 존재하지 않는 부분 그래프를 의미한다.\n",
    "\n",
    "\"\"\"\n",
    "\n",
    "#크루스칼 알고리즘\n",
    "\n",
    "\"\"\" \n",
    "가장 적은 비용으로 모든 노드를 연결 할 수있다.\n",
    "그리디 알고리즘으로 분류된다.\n",
    "\n",
    "간선 데이터를 비용에따라 오름차순으로 정렬한다.\n",
    "간선을 하나씩 확인하며 현재의 간선이 사이클을 발생시키는지 확인\n",
    "\n",
    "\"\"\"\n",
    "\n",
    "# 위상 정렬\n",
    "\n",
    "\"\"\" \n",
    "정렬 알고리즘이다. 순서가 정해져 있는 일련의 작업을 차례대로 수행해야 할때 사용\n",
    "\n",
    "방향 그래프의 모든 노드를 '방향성에 거스르지 않도록 순서대로 나열'\n",
    "\n",
    "예시) 선수과목을 고려한 학습순서 설정 \n",
    "\n",
    "\n",
    "\"\"\""
   ]
  },
  {
   "cell_type": "code",
   "execution_count": 6,
   "metadata": {},
   "outputs": [
    {
     "name": "stdout",
     "output_type": "stream",
     "text": [
      "1 2 5 3 6 4 7 "
     ]
    }
   ],
   "source": [
    "from collections import deque\n",
    "\n",
    "v, e = map(int,input().split())\n",
    "\n",
    "indegree = [0]*(v+1)\n",
    "\n",
    "graph = [[] for i in range(v+1)]\n",
    "for _ in range(e):\n",
    "    a,b = map(int,input().split())\n",
    "    graph[a].append(b)\n",
    "    indegree[b]+=1\n",
    "def topology_sort():\n",
    "    result = []\n",
    "    q= deque()\n",
    "    \n",
    "    for i in range(1,v+1):\n",
    "        if indegree[i]==0:\n",
    "            q.append(i)\n",
    "    while q:\n",
    "        now = q.popleft()\n",
    "        result.append(now)\n",
    "        for i in graph[now]:\n",
    "            indegree[i]-=1\n",
    "            if indegree[i]==0:\n",
    "                q.append(i)\n",
    "    for i in result:\n",
    "        print(i,end=' ')\n",
    "topology_sort()"
   ]
  },
  {
   "cell_type": "code",
   "execution_count": 11,
   "metadata": {},
   "outputs": [],
   "source": [
    "# 위상정렬의 시간 복잡도 \n",
    "\n",
    "# 팀결성 문제!\n",
    "\n",
    "\"\"\" \n",
    "학교에서 학생들에게 0번부터 n번까지 번호 부여, 처음에는 모든 학생이 서로 다른팀\n",
    "N+1개의 팀이 존재. '팀합치기' 와 '같은 팀 여부 확인' 연산 사용\n",
    "'팀합치기' = 두팀 합치는 연산\n",
    "'같은팀 여부 확인' = 특정한 두학생이 같은 팀에 속하는지 확인하는것.\n",
    "\n",
    "\"\"\"\n",
    "\n",
    "# 내가 푸는 풀이\n",
    "\n",
    "n,m =7,8\n",
    "home = [i for i in range(n+1)]\n",
    "def unite(a,b):\n",
    "    if a<=b:\n",
    "        home[b]=a\n",
    "    else:\n",
    "        home[a]=b\n",
    "\n",
    "def check(a,b):\n",
    "    if home[a]==home[b]:\n",
    "        print(\"YES\")\n",
    "    else:\n",
    "        print(\"NO\")\n",
    "\n",
    "operate = []\n",
    "for _ in range(m):\n",
    "    operate.append(list(map(int,input().split())))\n",
    "    \n"
   ]
  },
  {
   "cell_type": "code",
   "execution_count": 13,
   "metadata": {},
   "outputs": [
    {
     "data": {
      "text/plain": [
       "list"
      ]
     },
     "execution_count": 13,
     "metadata": {},
     "output_type": "execute_result"
    }
   ],
   "source": [
    "type(operate)"
   ]
  },
  {
   "cell_type": "code",
   "execution_count": 14,
   "metadata": {},
   "outputs": [
    {
     "name": "stdout",
     "output_type": "stream",
     "text": [
      "NO\n",
      "NO\n",
      "YES\n"
     ]
    }
   ],
   "source": [
    "for i in range(m):\n",
    "    a = operate[i][1]\n",
    "    b = operate[i][2]\n",
    "    if operate[i][0]==0:\n",
    "        unite(a,b)\n",
    "    else:\n",
    "        check(a,b)\n",
    "        \n"
   ]
  },
  {
   "cell_type": "code",
   "execution_count": 15,
   "metadata": {},
   "outputs": [
    {
     "ename": "SyntaxError",
     "evalue": "invalid syntax (3049043038.py, line 8)",
     "output_type": "error",
     "traceback": [
      "\u001b[0;36m  Input \u001b[0;32mIn [15]\u001b[0;36m\u001b[0m\n\u001b[0;31m    ..... 길어서생ㄹ략ㄱ\u001b[0m\n\u001b[0m        ^\u001b[0m\n\u001b[0;31mSyntaxError\u001b[0m\u001b[0;31m:\u001b[0m invalid syntax\n"
     ]
    }
   ],
   "source": [
    "# 책에 나온 정답\n",
    "\n",
    "def find_parent(parent,x):\n",
    "    if parent[x] !=x:\n",
    "        parent[x] =find_parent(parent,parent[x])\n",
    "    return parent[x]\n",
    "\n",
    "..... 길어서생ㄹ략ㄱ\n"
   ]
  },
  {
   "cell_type": "code",
   "execution_count": 16,
   "metadata": {},
   "outputs": [],
   "source": [
    "# 도시 분할 계획 \n",
    "\n",
    "\"\"\" \n",
    "원숭이 한마리가 세상을 구경하고 있따.\n",
    "마을에 머물렀는데 마을은 n개의 집과 연결하는 m개의 길로 이루어져있다\n",
    "그리고 길을 유지하는 유지비가 있다.\n",
    "\n",
    "마을 이장은 마을을 2개의 분리된 마을로 분할할 계획을 새우고있다.\n",
    "마을을 분할 할때에는 각 부리된 마을안에 집들이 서로연겨로디어있도록해야한다.\n",
    "집의개수, 길의 개수 \n",
    "길의 정보 유지비\n",
    "\"\"\"\n",
    "n , m = 7,12\n",
    "\n",
    "info = []\n",
    "for _ in range(m):\n",
    "    info.append(list(map(int,input().split())))\n"
   ]
  },
  {
   "cell_type": "code",
   "execution_count": 20,
   "metadata": {},
   "outputs": [
    {
     "data": {
      "text/plain": [
       "[[1, 2, 3],\n",
       " [1, 2, 3],\n",
       " [1, 3, 2],\n",
       " [1, 6, 2],\n",
       " [2, 4, 2],\n",
       " [3, 4, 4],\n",
       " [4, 5, 3],\n",
       " [5, 1, 5],\n",
       " [6, 4, 1],\n",
       " [6, 5, 3],\n",
       " [6, 7, 4],\n",
       " [7, 3, 6]]"
      ]
     },
     "execution_count": 20,
     "metadata": {},
     "output_type": "execute_result"
    }
   ],
   "source": [
    "\"\"\"\n",
    "info[i][0]\n",
    "[1]\n",
    "[2] =cost\n",
    "\"\"\"\n",
    "count = []\n",
    "info.sort()\n",
    "\n",
    "info"
   ]
  },
  {
   "cell_type": "code",
   "execution_count": null,
   "metadata": {},
   "outputs": [],
   "source": []
  }
 ],
 "metadata": {
  "kernelspec": {
   "display_name": "Python 3.9.7 ('akihabara_deep')",
   "language": "python",
   "name": "python3"
  },
  "language_info": {
   "codemirror_mode": {
    "name": "ipython",
    "version": 3
   },
   "file_extension": ".py",
   "mimetype": "text/x-python",
   "name": "python",
   "nbconvert_exporter": "python",
   "pygments_lexer": "ipython3",
   "version": "3.9.7"
  },
  "orig_nbformat": 4,
  "vscode": {
   "interpreter": {
    "hash": "daa4b12c7c0dfbea8a86e5c8683f87cd86f2768d8d85b18e100265b2a7dc8fca"
   }
  }
 },
 "nbformat": 4,
 "nbformat_minor": 2
}
