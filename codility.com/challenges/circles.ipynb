{
 "cells": [
  {
   "cell_type": "code",
   "execution_count": 136,
   "metadata": {},
   "outputs": [
    {
     "data": {
      "text/plain": [
       "2"
      ]
     },
     "execution_count": 136,
     "metadata": {},
     "output_type": "execute_result"
    }
   ],
   "source": [
    "# you can write to stdout for debugging purposes, e.g.\n",
    "# print(\"this is a debug message\")\n",
    "import numpy as np\n",
    "\n",
    "def solution(X, Y, colors):\n",
    "    # write your code in Python 3.6\n",
    "    n = len(X)\n",
    "    #print(n)\n",
    "    distance = []\n",
    "    for i in range(n):\n",
    "        distance.append(X[i]**2 + Y[i]**2)\n",
    "    #print(distance)\n",
    "    #print(colors)\n",
    "    # for i in range(n):\n",
    "    #     print(distance[i],colors[i])\n",
    "    dic111 = ((distance[i],colors[i] ) for i in range(n)) # why array colors : distance so then last index don't input\n",
    "    count=0\n",
    "    dic111 = sorted(dic111,reverse=False)\n",
    "    #print(dic111)\n",
    "    x =[0]\n",
    "    for i in range(n):\n",
    "        #print(i)\n",
    "        #print(dic111[i][1])\n",
    "        if dic111[i][1]=='G':\n",
    "            count+=1\n",
    "\n",
    "        else:\n",
    "            count-=1\n",
    "\n",
    "        if count==0:\n",
    "            x.append(i+1)\n",
    "        if count==0 and dic111[i][0]==dic111[i+1][0] and i<n-1:\n",
    "            x.pop()\n",
    "            \n",
    "        #print(count)\n",
    "    #print(x)\n",
    "    num = int(len(x))-1\n",
    "    #print(x[num], 'result')\n",
    "    #print('##########')\n",
    "    return x[num]7ㄹㄹㄹㄹㄹ\n",
    "\n",
    "\n",
    "# X = [1 ,0,3,-1]\n",
    "# Y = [2,3,4,-1]\n",
    "# colors = 'RGRG'\n",
    "# dic22 = solution(X,Y,colors)\n",
    "\n",
    "# dic44 = { 'red' :3 , 'blue' :2, 'green' : 5}\n",
    "# dic44 = sorted(dic44,key=len, reverse=True)\n",
    "# dic44\n",
    "\n",
    "#solution([5, -5, 5], [1, -1, -3], 'GRG')\n",
    "solution([3000, -3000, 4100, -4100, -3000], [5000, -5000, 4100, -4100, 5000], 'RRGRG')"
   ]
  },
  {
   "cell_type": "code",
   "execution_count": 45,
   "metadata": {},
   "outputs": [
    {
     "ename": "TypeError",
     "evalue": "cannot convert dictionary update sequence element #0 to a sequence",
     "output_type": "error",
     "traceback": [
      "\u001b[0;31m---------------------------------------------------------------------------\u001b[0m",
      "\u001b[0;31mTypeError\u001b[0m                                 Traceback (most recent call last)",
      "\u001b[1;32m/Users/juniverse/vscode/codingtest/coding_test-1/codility.com/challenges/circles.ipynb Cell 2'\u001b[0m in \u001b[0;36m<cell line: 1>\u001b[0;34m()\u001b[0m\n\u001b[0;32m----> <a href='vscode-notebook-cell:/Users/juniverse/vscode/codingtest/coding_test-1/codility.com/challenges/circles.ipynb#ch0000001?line=0'>1</a>\u001b[0m a1 \u001b[39m=\u001b[39m \u001b[39mdict\u001b[39;49m(a1)\n\u001b[1;32m      <a href='vscode-notebook-cell:/Users/juniverse/vscode/codingtest/coding_test-1/codility.com/challenges/circles.ipynb#ch0000001?line=1'>2</a>\u001b[0m \u001b[39mprint\u001b[39m(\u001b[39mtype\u001b[39m(a1))\n\u001b[1;32m      <a href='vscode-notebook-cell:/Users/juniverse/vscode/codingtest/coding_test-1/codility.com/challenges/circles.ipynb#ch0000001?line=2'>3</a>\u001b[0m a1 \u001b[39m=\u001b[39m \u001b[39msorted\u001b[39m( a1 ,key\u001b[39m=\u001b[39m \u001b[39mNone\u001b[39;00m, reverse \u001b[39m=\u001b[39m \u001b[39mTrue\u001b[39;00m)\n",
      "\u001b[0;31mTypeError\u001b[0m: cannot convert dictionary update sequence element #0 to a sequence"
     ]
    }
   ],
   "source": [
    "a1 = dict(a1)\n",
    "print(type(a1))\n",
    "a1 = sorted( a1 ,key= None, reverse = True)\n",
    "print(a1)"
   ]
  },
  {
   "cell_type": "code",
   "execution_count": 38,
   "metadata": {},
   "outputs": [
    {
     "data": {
      "text/plain": [
       "[5.0, 3.0, 2.23606797749979, 1.4142135623730951]"
      ]
     },
     "execution_count": 38,
     "metadata": {},
     "output_type": "execute_result"
    }
   ],
   "source": [
    "a1"
   ]
  },
  {
   "cell_type": "code",
   "execution_count": null,
   "metadata": {},
   "outputs": [],
   "source": []
  }
 ],
 "metadata": {
  "kernelspec": {
   "display_name": "Python 3.9.7 ('akihabara_deep')",
   "language": "python",
   "name": "python3"
  },
  "language_info": {
   "codemirror_mode": {
    "name": "ipython",
    "version": 3
   },
   "file_extension": ".py",
   "mimetype": "text/x-python",
   "name": "python",
   "nbconvert_exporter": "python",
   "pygments_lexer": "ipython3",
   "version": "3.9.7"
  },
  "orig_nbformat": 4,
  "vscode": {
   "interpreter": {
    "hash": "daa4b12c7c0dfbea8a86e5c8683f87cd86f2768d8d85b18e100265b2a7dc8fca"
   }
  }
 },
 "nbformat": 4,
 "nbformat_minor": 2
}
