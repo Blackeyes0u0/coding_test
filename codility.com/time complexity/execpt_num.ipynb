{
 "cells": [
  {
   "cell_type": "markdown",
   "metadata": {},
   "source": [
    "n array A consisting of N different integers is given. The array contains integers in the range [1..(N + 1)], which means that exactly one element is missing.\n",
    "\n",
    "Your goal is to find that missing element.\n",
    "\n",
    "Write a function:\n",
    "\n",
    "def solution(A)\n",
    "\n",
    "that, given an array A, returns the value of the missing element.\n",
    "\n",
    "For example, given array A such that:\n",
    "\n",
    "  A[0] = 2\n",
    "  A[1] = 3\n",
    "  A[2] = 1\n",
    "  A[3] = 5\n",
    "the function should return 4, as it is the missing element.\n",
    "\n",
    "Write an efficient algorithm for the following assumptions:\n",
    "\n",
    "N is an integer within the range [0..100,000];\n",
    "the elements of A are all distinct;\n",
    "each element of array A is an integer within the range [1..(N + 1)].\n",
    "Copyright 2009–2022 by Codility Limited. All Rights Reserved. Unauthorized copying, publication or disclosure prohibited."
   ]
  },
  {
   "cell_type": "code",
   "execution_count": 2,
   "metadata": {},
   "outputs": [
    {
     "data": {
      "text/plain": [
       "4"
      ]
     },
     "execution_count": 2,
     "metadata": {},
     "output_type": "execute_result"
    }
   ],
   "source": [
    "# you can write to stdout for debugging purposes, e.g.\n",
    "# print(\"this is a debug message\")\n",
    "\n",
    "def solution(A):\n",
    "    # write your code in Python 3.6\n",
    "    \n",
    "    A.insert(0,0)\n",
    "    A.sort()\n",
    "    n = len(A)\n",
    "    for i in range(n):\n",
    "        if A[i]!=i:\n",
    "            return i\n",
    "            break\n",
    "    return i\n",
    "\n",
    "# 방법은 2가지 sort해서 순서와 다른것찾아내기\n",
    "# 하나 보일때마다 하나씩 삭제하기.\n",
    "\n",
    "A = [1,2,3,5]\n",
    "\n",
    "solution(A)\n"
   ]
  },
  {
   "cell_type": "code",
   "execution_count": 6,
   "metadata": {},
   "outputs": [
    {
     "data": {
      "text/plain": [
       "[0, 1, 2, 3, 4, 5, 6, 7, 8, 9]"
      ]
     },
     "execution_count": 6,
     "metadata": {},
     "output_type": "execute_result"
    }
   ],
   "source": [
    "# number 2 sol\n",
    "\n",
    "def solution(A):\n",
    "    # write your code in Python 3.6\n",
    "    \n",
    "    A.insert(0,0)\n",
    "\n",
    "    n = len(A)\n",
    "    list1 = [i for i in range(n)]\n",
    "    for i in range(n):\n",
    "        if A[i] not in list1:\n",
    "            return A[i]-1\n",
    "\n",
    "# 방법은 2가지 sort해서 순서와 다른것찾아내기\n",
    "# 하나 보일때마다 하나씩 삭제하기.\n",
    "list1 = [i for i in range(10)]\n",
    "list1\n"
   ]
  },
  {
   "cell_type": "code",
   "execution_count": 4,
   "metadata": {},
   "outputs": [
    {
     "data": {
      "text/plain": [
       "[3, 4, 5, 6, 7, 8, 9]"
      ]
     },
     "execution_count": 4,
     "metadata": {},
     "output_type": "execute_result"
    }
   ],
   "source": [
    "list1 = [i for i in range(10)]\n",
    "list1[:3]\n",
    "list1[3:]"
   ]
  },
  {
   "cell_type": "code",
   "execution_count": 33,
   "metadata": {},
   "outputs": [
    {
     "name": "stdout",
     "output_type": "stream",
     "text": [
      "9\n"
     ]
    },
    {
     "data": {
      "text/plain": [
       "[45, 43, 39, 33, 25, 15, 3, 11]"
      ]
     },
     "execution_count": 33,
     "metadata": {},
     "output_type": "execute_result"
    }
   ],
   "source": [
    "\n",
    "\n",
    "def solution(A):\n",
    "    def diff(A,P):\n",
    "        a1 = A[:P]\n",
    "        a2 = A[P:]\n",
    "        sum1 = 0\n",
    "        sum2 = 0\n",
    "        for i in range(len(a1)):\n",
    "            sum1+=a1[i]\n",
    "        for j in range(len(a2)):\n",
    "            sum2+=a2[j]\n",
    "        return int(abs(sum1-sum2))\n",
    "    carry = []\n",
    "    print(len(A)-1)\n",
    "    for i in range(1,len(A)-1):\n",
    "        carry.append(diff(A,i))\n",
    "    return carry\n",
    "\n",
    "solution(list1)\n",
    "    \n"
   ]
  },
  {
   "cell_type": "code",
   "execution_count": 18,
   "metadata": {},
   "outputs": [
    {
     "data": {
      "text/plain": [
       "1"
      ]
     },
     "execution_count": 18,
     "metadata": {},
     "output_type": "execute_result"
    }
   ],
   "source": [
    "carry = []\n",
    "for i in range(1,9):\n",
    "    carry.append(i)\n",
    "carry\n",
    "carry.append(diff(carry,3))\n",
    "carry\n",
    "min(carry)"
   ]
  },
  {
   "cell_type": "code",
   "execution_count": null,
   "metadata": {},
   "outputs": [],
   "source": []
  }
 ],
 "metadata": {
  "kernelspec": {
   "display_name": "Python 3.9.7 ('akihabara_deep')",
   "language": "python",
   "name": "python3"
  },
  "language_info": {
   "codemirror_mode": {
    "name": "ipython",
    "version": 3
   },
   "file_extension": ".py",
   "mimetype": "text/x-python",
   "name": "python",
   "nbconvert_exporter": "python",
   "pygments_lexer": "ipython3",
   "version": "3.9.7"
  },
  "orig_nbformat": 4,
  "vscode": {
   "interpreter": {
    "hash": "daa4b12c7c0dfbea8a86e5c8683f87cd86f2768d8d85b18e100265b2a7dc8fca"
   }
  }
 },
 "nbformat": 4,
 "nbformat_minor": 2
}
