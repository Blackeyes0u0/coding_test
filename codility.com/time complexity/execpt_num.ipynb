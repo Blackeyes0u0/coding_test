{
 "cells": [
  {
   "cell_type": "markdown",
   "metadata": {},
   "source": [
    "n array A consisting of N different integers is given. The array contains integers in the range [1..(N + 1)], which means that exactly one element is missing.\n",
    "\n",
    "Your goal is to find that missing element.\n",
    "\n",
    "Write a function:\n",
    "\n",
    "def solution(A)\n",
    "\n",
    "that, given an array A, returns the value of the missing element.\n",
    "\n",
    "For example, given array A such that:\n",
    "\n",
    "  A[0] = 2\n",
    "  A[1] = 3\n",
    "  A[2] = 1\n",
    "  A[3] = 5\n",
    "the function should return 4, as it is the missing element.\n",
    "\n",
    "Write an efficient algorithm for the following assumptions:\n",
    "\n",
    "N is an integer within the range [0..100,000];\n",
    "the elements of A are all distinct;\n",
    "each element of array A is an integer within the range [1..(N + 1)].\n",
    "Copyright 2009–2022 by Codility Limited. All Rights Reserved. Unauthorized copying, publication or disclosure prohibited."
   ]
  },
  {
   "cell_type": "code",
   "execution_count": null,
   "metadata": {},
   "outputs": [],
   "source": [
    "# you can write to stdout for debugging purposes, e.g.\n",
    "# print(\"this is a debug message\")\n",
    "\n",
    "def solution(A):\n",
    "    # write your code in Python 3.6\n",
    "    \n",
    "    A.insert(0,0)\n",
    "    A.sort()\n",
    "    n = len(A)\n",
    "    for i in range(n):\n",
    "        if A[i]!=i:\n",
    "            return i\n",
    "            break\n",
    "    return i\n",
    "\n",
    "# 방법은 2가지 sort해서 순서와 다른것찾아내기\n",
    "# 하나 보일때마다 하나씩 삭제하기.\n",
    "\n",
    "A = [1,2,4,5,]\n"
   ]
  }
 ],
 "metadata": {
  "language_info": {
   "name": "python"
  },
  "orig_nbformat": 4
 },
 "nbformat": 4,
 "nbformat_minor": 2
}
