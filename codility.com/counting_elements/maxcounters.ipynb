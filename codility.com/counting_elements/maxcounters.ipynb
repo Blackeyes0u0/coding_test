{
 "cells": [
  {
   "cell_type": "markdown",
   "metadata": {},
   "source": []
  },
  {
   "cell_type": "code",
   "execution_count": 43,
   "metadata": {},
   "outputs": [
    {
     "ename": "IndexError",
     "evalue": "pop index out of range",
     "output_type": "error",
     "traceback": [
      "\u001b[0;31m---------------------------------------------------------------------------\u001b[0m",
      "\u001b[0;31mIndexError\u001b[0m                                Traceback (most recent call last)",
      "\u001b[1;32m/Users/juniverse/vscode/codingtest/coding_test-1/codility.com/counting_elements/maxcounters.ipynb Cell 2'\u001b[0m in \u001b[0;36m<cell line: 20>\u001b[0;34m()\u001b[0m\n\u001b[1;32m     <a href='vscode-notebook-cell:/Users/juniverse/vscode/codingtest/coding_test-1/codility.com/counting_elements/maxcounters.ipynb#ch0000000?line=16'>17</a>\u001b[0m N \u001b[39m=\u001b[39m \u001b[39m5\u001b[39m\n\u001b[1;32m     <a href='vscode-notebook-cell:/Users/juniverse/vscode/codingtest/coding_test-1/codility.com/counting_elements/maxcounters.ipynb#ch0000000?line=18'>19</a>\u001b[0m A \u001b[39m=\u001b[39m [\u001b[39m3\u001b[39m,\u001b[39m4\u001b[39m,\u001b[39m4\u001b[39m,\u001b[39m6\u001b[39m,\u001b[39m1\u001b[39m,\u001b[39m4\u001b[39m,\u001b[39m4\u001b[39m]\n\u001b[0;32m---> <a href='vscode-notebook-cell:/Users/juniverse/vscode/codingtest/coding_test-1/codility.com/counting_elements/maxcounters.ipynb#ch0000000?line=19'>20</a>\u001b[0m solution(N,A)\n",
      "\u001b[1;32m/Users/juniverse/vscode/codingtest/coding_test-1/codility.com/counting_elements/maxcounters.ipynb Cell 2'\u001b[0m in \u001b[0;36msolution\u001b[0;34m(N, A)\u001b[0m\n\u001b[1;32m      <a href='vscode-notebook-cell:/Users/juniverse/vscode/codingtest/coding_test-1/codility.com/counting_elements/maxcounters.ipynb#ch0000000?line=6'>7</a>\u001b[0m x1 \u001b[39m=\u001b[39m A[j]\n\u001b[1;32m      <a href='vscode-notebook-cell:/Users/juniverse/vscode/codingtest/coding_test-1/codility.com/counting_elements/maxcounters.ipynb#ch0000000?line=7'>8</a>\u001b[0m \u001b[39mif\u001b[39;00m \u001b[39m1\u001b[39m\u001b[39m<\u001b[39m\u001b[39m=\u001b[39mA[j] \u001b[39mand\u001b[39;00m A[j]\u001b[39m<\u001b[39m\u001b[39m=\u001b[39mN:\n\u001b[0;32m----> <a href='vscode-notebook-cell:/Users/juniverse/vscode/codingtest/coding_test-1/codility.com/counting_elements/maxcounters.ipynb#ch0000000?line=8'>9</a>\u001b[0m     list1\u001b[39m.\u001b[39;49mpop(j)\n\u001b[1;32m     <a href='vscode-notebook-cell:/Users/juniverse/vscode/codingtest/coding_test-1/codility.com/counting_elements/maxcounters.ipynb#ch0000000?line=9'>10</a>\u001b[0m     list1\u001b[39m.\u001b[39minsert(j,x1\u001b[39m+\u001b[39m\u001b[39m1\u001b[39m)  \n\u001b[1;32m     <a href='vscode-notebook-cell:/Users/juniverse/vscode/codingtest/coding_test-1/codility.com/counting_elements/maxcounters.ipynb#ch0000000?line=10'>11</a>\u001b[0m \u001b[39mif\u001b[39;00m A[j]\u001b[39m>\u001b[39m\u001b[39m=\u001b[39mN\u001b[39m+\u001b[39m\u001b[39m1\u001b[39m:\n",
      "\u001b[0;31mIndexError\u001b[0m: pop index out of range"
     ]
    }
   ],
   "source": [
    "import numpy as np\n",
    "\n",
    "def solution(N,A):\n",
    "    list1 = [0 for i in range(N)]\n",
    "    max =0\n",
    "    for j in range(len(A)):\n",
    "        x1 = A[j]\n",
    "        if 1<=A[j] and A[j]<=N:\n",
    "            list1.pop(j)\n",
    "            list1.insert(j,x1+1)  \n",
    "        if A[j]>=N+1:\n",
    "            list1 = np.array(list1)\n",
    "            max = list1.max()\n",
    "            list1 = [max for i in range(N)]\n",
    "    return list1\n",
    "\n",
    "N = 5\n",
    "\n",
    "A = [3,4,4,6,1,4,4]\n",
    "solution(N,A)\n",
    "        "
   ]
  },
  {
   "cell_type": "code",
   "execution_count": 28,
   "metadata": {},
   "outputs": [],
   "source": [
    "list1 = [0 for i in range(N)]\n",
    "max\n",
    "for j in range(len(A)):\n",
    "    x1 = A[j]\n",
    "    if 1<=x1 and x1<=N:\n",
    "        A.pop(j)\n",
    "        A.insert(j,x1+1)        \n",
    "    if A[j]>=N+1:\n",
    "        pass\n",
    "        #max = max(list1)\n",
    "        #list1 = [max for i in range(N)]\n"
   ]
  },
  {
   "cell_type": "code",
   "execution_count": 23,
   "metadata": {},
   "outputs": [
    {
     "data": {
      "text/plain": [
       "[1, 3, 2, 4, 3, 3]"
      ]
     },
     "execution_count": 23,
     "metadata": {},
     "output_type": "execute_result"
    }
   ],
   "source": [
    "list1 = [3 for i in range(N)]\n",
    "list1  =[ 1,2,2,3,4,3,3]\n",
    "list1.pop(3)\n",
    "list1\n",
    "x1 =list1[j]\n",
    "j=1\n",
    "list1.pop(j)\n",
    "list1.insert(j,x1+1)     \n",
    "list1"
   ]
  },
  {
   "cell_type": "code",
   "execution_count": 38,
   "metadata": {},
   "outputs": [
    {
     "ename": "AttributeError",
     "evalue": "'list' object has no attribute 'max'",
     "output_type": "error",
     "traceback": [
      "\u001b[0;31m---------------------------------------------------------------------------\u001b[0m",
      "\u001b[0;31mAttributeError\u001b[0m                            Traceback (most recent call last)",
      "\u001b[1;32m/Users/juniverse/vscode/codingtest/coding_test-1/codility.com/counting_elements/maxcounters.ipynb Cell 4'\u001b[0m in \u001b[0;36m<cell line: 3>\u001b[0;34m()\u001b[0m\n\u001b[1;32m      <a href='vscode-notebook-cell:/Users/juniverse/vscode/codingtest/coding_test-1/codility.com/counting_elements/maxcounters.ipynb#ch0000003?line=0'>1</a>\u001b[0m \u001b[39mimport\u001b[39;00m \u001b[39mnumpy\u001b[39;00m \u001b[39mas\u001b[39;00m \u001b[39mnp\u001b[39;00m\n\u001b[1;32m      <a href='vscode-notebook-cell:/Users/juniverse/vscode/codingtest/coding_test-1/codility.com/counting_elements/maxcounters.ipynb#ch0000003?line=1'>2</a>\u001b[0m list1 \u001b[39m=\u001b[39m [\u001b[39m1\u001b[39m,\u001b[39m2\u001b[39m,\u001b[39m3\u001b[39m,\u001b[39m4\u001b[39m,\u001b[39m5\u001b[39m]\n\u001b[0;32m----> <a href='vscode-notebook-cell:/Users/juniverse/vscode/codingtest/coding_test-1/codility.com/counting_elements/maxcounters.ipynb#ch0000003?line=2'>3</a>\u001b[0m list1\u001b[39m.\u001b[39;49mmax()\n\u001b[1;32m      <a href='vscode-notebook-cell:/Users/juniverse/vscode/codingtest/coding_test-1/codility.com/counting_elements/maxcounters.ipynb#ch0000003?line=3'>4</a>\u001b[0m list1  \u001b[39m=\u001b[39m np\u001b[39m.\u001b[39marray(list1)\n\u001b[1;32m      <a href='vscode-notebook-cell:/Users/juniverse/vscode/codingtest/coding_test-1/codility.com/counting_elements/maxcounters.ipynb#ch0000003?line=4'>5</a>\u001b[0m \u001b[39m# x= max(list1)\u001b[39;00m\n",
      "\u001b[0;31mAttributeError\u001b[0m: 'list' object has no attribute 'max'"
     ]
    }
   ],
   "source": [
    "import numpy as np\n",
    "list1 = [1,2,3,4,5]\n",
    "#list1.max()\n",
    "list1  = np.array(list1)\n",
    "# x= max(list1)\n",
    "list1.max()"
   ]
  },
  {
   "cell_type": "code",
   "execution_count": 96,
   "metadata": {},
   "outputs": [
    {
     "name": "stdout",
     "output_type": "stream",
     "text": [
      "[0, 0, 0, 0, 0]\n",
      "[3, 4, 4, 1, 5, 6, 6]\n",
      "3\n",
      "[0, 0, 0, 0, 1]\n",
      "4\n",
      "[0, 0, 0, 1, 1]\n",
      "4\n",
      "[0, 0, 0, 1, 1]\n",
      "1\n",
      "[0, 0, 1, 1, 1]\n",
      "5\n",
      "[0, 0, 1, 1, 1]\n",
      "6\n"
     ]
    },
    {
     "ename": "IndexError",
     "evalue": "pop index out of range",
     "output_type": "error",
     "traceback": [
      "\u001b[0;31m---------------------------------------------------------------------------\u001b[0m",
      "\u001b[0;31mIndexError\u001b[0m                                Traceback (most recent call last)",
      "\u001b[1;32m/Users/juniverse/vscode/codingtest/coding_test-1/codility.com/counting_elements/maxcounters.ipynb Cell 6'\u001b[0m in \u001b[0;36m<cell line: 7>\u001b[0;34m()\u001b[0m\n\u001b[1;32m      <a href='vscode-notebook-cell:/Users/juniverse/vscode/codingtest/coding_test-1/codility.com/counting_elements/maxcounters.ipynb#ch0000004?line=8'>9</a>\u001b[0m counter \u001b[39m=\u001b[39m A[j] \u001b[39m-\u001b[39m\u001b[39m1\u001b[39m\n\u001b[1;32m     <a href='vscode-notebook-cell:/Users/juniverse/vscode/codingtest/coding_test-1/codility.com/counting_elements/maxcounters.ipynb#ch0000004?line=9'>10</a>\u001b[0m \u001b[39mif\u001b[39;00m counter \u001b[39m<\u001b[39m\u001b[39m=\u001b[39mN:\n\u001b[1;32m     <a href='vscode-notebook-cell:/Users/juniverse/vscode/codingtest/coding_test-1/codility.com/counting_elements/maxcounters.ipynb#ch0000004?line=10'>11</a>\u001b[0m     \u001b[39m#list1.pop(A[j])\u001b[39;00m\n\u001b[0;32m---> <a href='vscode-notebook-cell:/Users/juniverse/vscode/codingtest/coding_test-1/codility.com/counting_elements/maxcounters.ipynb#ch0000004?line=11'>12</a>\u001b[0m     list1\u001b[39m.\u001b[39;49mpop(counter)\n\u001b[1;32m     <a href='vscode-notebook-cell:/Users/juniverse/vscode/codingtest/coding_test-1/codility.com/counting_elements/maxcounters.ipynb#ch0000004?line=12'>13</a>\u001b[0m     list1\u001b[39m.\u001b[39mappend(\u001b[39m1\u001b[39m)\n\u001b[1;32m     <a href='vscode-notebook-cell:/Users/juniverse/vscode/codingtest/coding_test-1/codility.com/counting_elements/maxcounters.ipynb#ch0000004?line=13'>14</a>\u001b[0m     \u001b[39mprint\u001b[39m(list1)\n",
      "\u001b[0;31mIndexError\u001b[0m: pop index out of range"
     ]
    }
   ],
   "source": [
    "# 다시 정ㄹㅣ해서 풀면\n",
    "N= 5\n",
    "A = [3,4,4,1,5,6,6]\n",
    "list1 = [0 for i in range(N)]\n",
    "print(list1)\n",
    "print(A)\n",
    "for j in range(len(A)):\n",
    "    print(A[j])\n",
    "    counter = A[j] -1\n",
    "    if counter <=N:\n",
    "        #list1.pop(A[j])\n",
    "        list1.pop(counter)\n",
    "        list1.append(1)\n",
    "        print(list1)\n",
    "\"\"\"\n",
    "for j in range(len(A)):\n",
    "    counter = A[j]-1\n",
    "    num = list1[A[j]]\n",
    "    if A[j]<=N:\n",
    "        list1.pop(counter)\n",
    "        list1.insert(counter,num+1)\n",
    "#solution(N,A)\n",
    "list1\n",
    "\"\"\""
   ]
  },
  {
   "cell_type": "code",
   "execution_count": 97,
   "metadata": {},
   "outputs": [
    {
     "name": "stdout",
     "output_type": "stream",
     "text": [
      "[5, 3, 2, 1]\n"
     ]
    },
    {
     "data": {
      "text/plain": [
       "[5, 3, 3, 2, 1]"
      ]
     },
     "execution_count": 97,
     "metadata": {},
     "output_type": "execute_result"
    }
   ],
   "source": [
    "list1 = [5,4,3,2,1]\n",
    "x1+1\n",
    "list1.pop(1)\n",
    "print(list1)\n",
    "list1.insert(1,x1-1)\n",
    "list1"
   ]
  },
  {
   "cell_type": "markdown",
   "metadata": {},
   "source": [
    "fgsdgdf"
   ]
  },
  {
   "cell_type": "markdown",
   "metadata": {},
   "source": [
    "\n",
    "sdkfgjsldkgjsdfZ"
   ]
  },
  {
   "cell_type": "code",
   "execution_count": 4,
   "metadata": {},
   "outputs": [
    {
     "data": {
      "text/plain": [
       "9"
      ]
     },
     "execution_count": 4,
     "metadata": {},
     "output_type": "execute_result"
    }
   ],
   "source": [
    "import numpy as np\n",
    "x1 = [i for i in range(10)]\n",
    "x1 = np.array(x1)\n",
    "x1.max()"
   ]
  },
  {
   "cell_type": "code",
   "execution_count": 14,
   "metadata": {},
   "outputs": [
    {
     "ename": "IndexError",
     "evalue": "list index out of range",
     "output_type": "error",
     "traceback": [
      "\u001b[0;31m---------------------------------------------------------------------------\u001b[0m",
      "\u001b[0;31mIndexError\u001b[0m                                Traceback (most recent call last)",
      "\u001b[1;32m/Users/juniverse/vscode/codingtest/coding_test-1/codility.com/counting_elements/maxcounters.ipynb Cell 11'\u001b[0m in \u001b[0;36m<cell line: 20>\u001b[0;34m()\u001b[0m\n\u001b[1;32m     <a href='vscode-notebook-cell:/Users/juniverse/vscode/codingtest/coding_test-1/codility.com/counting_elements/maxcounters.ipynb#ch0000010?line=16'>17</a>\u001b[0m             \u001b[39mmax\u001b[39m \u001b[39m=\u001b[39m list1\u001b[39m.\u001b[39mmax()\n\u001b[1;32m     <a href='vscode-notebook-cell:/Users/juniverse/vscode/codingtest/coding_test-1/codility.com/counting_elements/maxcounters.ipynb#ch0000010?line=17'>18</a>\u001b[0m             list1 \u001b[39m=\u001b[39m [\u001b[39mint\u001b[39m(\u001b[39mmax\u001b[39m) \u001b[39mfor\u001b[39;00m i \u001b[39min\u001b[39;00m \u001b[39mrange\u001b[39m(N)]\n\u001b[0;32m---> <a href='vscode-notebook-cell:/Users/juniverse/vscode/codingtest/coding_test-1/codility.com/counting_elements/maxcounters.ipynb#ch0000010?line=19'>20</a>\u001b[0m solution(N,A)\n",
      "\u001b[1;32m/Users/juniverse/vscode/codingtest/coding_test-1/codility.com/counting_elements/maxcounters.ipynb Cell 11'\u001b[0m in \u001b[0;36msolution\u001b[0;34m(N, A)\u001b[0m\n\u001b[1;32m     <a href='vscode-notebook-cell:/Users/juniverse/vscode/codingtest/coding_test-1/codility.com/counting_elements/maxcounters.ipynb#ch0000010?line=10'>11</a>\u001b[0m \u001b[39mif\u001b[39;00m A[j]\u001b[39m<\u001b[39mN:\n\u001b[1;32m     <a href='vscode-notebook-cell:/Users/juniverse/vscode/codingtest/coding_test-1/codility.com/counting_elements/maxcounters.ipynb#ch0000010?line=11'>12</a>\u001b[0m     list1\u001b[39m.\u001b[39mpop(A[j])\n\u001b[0;32m---> <a href='vscode-notebook-cell:/Users/juniverse/vscode/codingtest/coding_test-1/codility.com/counting_elements/maxcounters.ipynb#ch0000010?line=12'>13</a>\u001b[0m     x \u001b[39m=\u001b[39m list1[j] \u001b[39m+\u001b[39m \u001b[39m1\u001b[39m\n\u001b[1;32m     <a href='vscode-notebook-cell:/Users/juniverse/vscode/codingtest/coding_test-1/codility.com/counting_elements/maxcounters.ipynb#ch0000010?line=13'>14</a>\u001b[0m     list1\u001b[39m.\u001b[39minsert(A[j],x)\n\u001b[1;32m     <a href='vscode-notebook-cell:/Users/juniverse/vscode/codingtest/coding_test-1/codility.com/counting_elements/maxcounters.ipynb#ch0000010?line=14'>15</a>\u001b[0m \u001b[39melse\u001b[39;00m:\n",
      "\u001b[0;31mIndexError\u001b[0m: list index out of range"
     ]
    }
   ],
   "source": [
    "# you can write to stdout for debugging purposes, e.g.\n",
    "# print(\"this is a debug message\")\n",
    "import numpy as np\n",
    "\n",
    "N =5\n",
    "A = [3,4,4,6,1,4,4,5]\n",
    "def solution(N, A):\n",
    "    # write your code in Python 3.6\n",
    "    list1 = [0 for i in range(N)]\n",
    "    for j in range(len(A)):\n",
    "        if A[j]<N:\n",
    "            list1.pop(A[j])\n",
    "            x = list1[j] + 1\n",
    "            list1.insert(A[j],x)\n",
    "        else:\n",
    "            list1 = np.array(list1)\n",
    "            max = list1.max()\n",
    "            list1 = [int(max) for i in range(N)]\n",
    "\n",
    "solution(N,A)           \n"
   ]
  },
  {
   "cell_type": "code",
   "execution_count": 28,
   "metadata": {},
   "outputs": [
    {
     "data": {
      "text/plain": [
       "[4, 3, 3, 3, 3]"
      ]
     },
     "execution_count": 28,
     "metadata": {},
     "output_type": "execute_result"
    }
   ],
   "source": [
    "import numpy as np\n",
    "\n",
    "N =5\n",
    "A = [3,4,4,6,]\n",
    "def solution(N, A):\n",
    "    # write your code in Python 3.6\n",
    "    list1 = [0 for i in range(N)]\n",
    "    #print(list1)\n",
    "    for j in range(len(A)):\n",
    "        if A[j]<=N:\n",
    "            #print(A[j])\n",
    "            list1[A[j]-1]+=1\n",
    "        else:\n",
    "            list1 = np.array(list1)\n",
    "            max1 = list1.max()\n",
    "            #print( max1,\" max\")\n",
    "            list1 = [max1 for _ in range(N)]\n",
    "            #print(list1)\n",
    "    #print(list1)\n",
    "    return list1\n",
    "\n",
    "solution(N,A)"
   ]
  },
  {
   "cell_type": "code",
   "execution_count": null,
   "metadata": {},
   "outputs": [],
   "source": []
  }
 ],
 "metadata": {
  "kernelspec": {
   "display_name": "Python 3.9.7 ('akihabara_deep')",
   "language": "python",
   "name": "python3"
  },
  "language_info": {
   "codemirror_mode": {
    "name": "ipython",
    "version": 3
   },
   "file_extension": ".py",
   "mimetype": "text/x-python",
   "name": "python",
   "nbconvert_exporter": "python",
   "pygments_lexer": "ipython3",
   "version": "3.9.7"
  },
  "orig_nbformat": 4,
  "vscode": {
   "interpreter": {
    "hash": "daa4b12c7c0dfbea8a86e5c8683f87cd86f2768d8d85b18e100265b2a7dc8fca"
   }
  }
 },
 "nbformat": 4,
 "nbformat_minor": 2
}
