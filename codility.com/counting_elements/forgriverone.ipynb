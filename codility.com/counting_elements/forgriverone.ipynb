{
 "cells": [
  {
   "cell_type": "code",
   "execution_count": 30,
   "metadata": {},
   "outputs": [
    {
     "data": {
      "text/plain": [
       "[1, 2, 3, 4, 5, 6, 7, 8, 9, 10]"
      ]
     },
     "execution_count": 30,
     "metadata": {},
     "output_type": "execute_result"
    }
   ],
   "source": [
    "def solution (x,A):\n",
    "    list1 = [i for i in range(1,x+1)]\n",
    "    list2 = []\n",
    "    for j in range(len(A)):\n",
    "        if A[j] in list1:\n",
    "            list1.remove(A[j])\n",
    "        if list1==[]:\n",
    "            return j\n",
    "        \n",
    "    return -1\n",
    "x=10\n",
    "list1 = [i for i in range(1,x+1)]\n",
    "list1"
   ]
  },
  {
   "cell_type": "code",
   "execution_count": 28,
   "metadata": {},
   "outputs": [
    {
     "name": "stdout",
     "output_type": "stream",
     "text": [
      "yes\n"
     ]
    }
   ],
   "source": [
    "list2 = set([1,2])\n",
    "\n",
    "list2 = [1,2,-1]\n",
    "list2.remove(2)\n",
    "list2\n",
    "list2.remove(1)\n",
    "list2.remove(-1)\n",
    "\n",
    "if list2 ==[]:\n",
    "    print(\"yes\")"
   ]
  },
  {
   "cell_type": "code",
   "execution_count": 31,
   "metadata": {},
   "outputs": [
    {
     "data": {
      "text/plain": [
       "{1, 2}"
      ]
     },
     "execution_count": 31,
     "metadata": {},
     "output_type": "execute_result"
    }
   ],
   "source": [
    "set1 = set([1,2])\n",
    "\n",
    "set1\n",
    "\n",
    "# 효율 적인 방ㅓㅂ1?"
   ]
  },
  {
   "cell_type": "code",
   "execution_count": 32,
   "metadata": {},
   "outputs": [],
   "source": [
    "def solution (x,A):\n",
    "    list1 = [i for i in range(1,x+1)]\n",
    "    list2 = []\n",
    "    for j in range(len(A)):\n",
    "        if A[j] in list1:\n",
    "            list1.remove(A[j])\n",
    "        if list1==[]:\n",
    "            return j\n",
    "        \n",
    "    return -1\n",
    "# task score 63, correctness 100 , performance\n",
    "# 공간 복잡도와 시간 복잡도를 생각해보자.\n",
    "\n",
    "# list1  x 복잡도와 메모리.\n",
    "# j당. 하나의 원소가 list1에 있는지 찾는다. n번 그리고 지운다. 1번\n",
    "# 확인.\n",
    "# 총 복잡도 j*n 으로 추정.\n",
    "\n",
    "# time complexity "
   ]
  },
  {
   "cell_type": "markdown",
   "metadata": {},
   "source": [
    "# time Complexity\n",
    "\n",
    "알고리즘의 수행시간을 분석할때 시간복잡도를 사용한다.\n",
    "\n",
    "기본 연산 - 데이터 입출력\n",
    "산술 연산 더하기 곱셉\n",
    "제어 연산 if while\n",
    "\n",
    "\n",
    "시간 복잡도는 3가지 경우로 나타낸다\n",
    "\n",
    "- 1. best case  빅오메가 표시법\n",
    "- 2. worst case 빅 O(n) 표시법\n",
    "- 3. average case 빅 세타 표시법\n",
    "\n",
    "최악의 경우로 알고리즘의성능을 판단한다. 평균적인것은 구하기 어려워서..\n",
    "\n",
    "연산횟수가 다항식으로 표현될 경우 최고차항만을 표시\n",
    "\n",
    "# space Complexity\n",
    "\n",
    "공간 복잡도는 알고리즘에서 사용하는 메모리양을 나타냄\n",
    "\n",
    "보조공간(auxiliary space)  입력공간(input size) 을 합친 포과렂ㄱ인 개념\n",
    "\n",
    "보조 공간은 알고리즘이 실행되는 동안 사용하는 임시공간이다.\n",
    "\n",
    "so we don't consider input size\n",
    "\n",
    "int sum(int a[], int n)\n",
    "\n",
    "according to input size, memory increase linearly.\n",
    "\n",
    "\n"
   ]
  },
  {
   "cell_type": "code",
   "execution_count": null,
   "metadata": {},
   "outputs": [],
   "source": [
    "def solution (x,A):\n",
    "    list1 = [i for i in range(1,x+1)]\n",
    "    for j in range(len(A)):\n",
    "        if A[j] in list1:\n",
    "            list1.remove(A[j])\n",
    "        if list1==[]:\n",
    "            return j\n",
    "        \n",
    "    return -1\n",
    "\n",
    "# we calculate t.c and s.c\n",
    "\n",
    "# t.c   x  + len(A)* (x + 1 + ? )\n",
    "# \n",
    "# s.c    4 , 4*A , r * x\n"
   ]
  }
 ],
 "metadata": {
  "kernelspec": {
   "display_name": "Python 3.9.7 ('akihabara_deep')",
   "language": "python",
   "name": "python3"
  },
  "language_info": {
   "codemirror_mode": {
    "name": "ipython",
    "version": 3
   },
   "file_extension": ".py",
   "mimetype": "text/x-python",
   "name": "python",
   "nbconvert_exporter": "python",
   "pygments_lexer": "ipython3",
   "version": "3.9.7"
  },
  "orig_nbformat": 4,
  "vscode": {
   "interpreter": {
    "hash": "daa4b12c7c0dfbea8a86e5c8683f87cd86f2768d8d85b18e100265b2a7dc8fca"
   }
  }
 },
 "nbformat": 4,
 "nbformat_minor": 2
}
