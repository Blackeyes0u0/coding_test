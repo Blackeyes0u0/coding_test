{
 "cells": [
  {
   "cell_type": "markdown",
   "metadata": {},
   "source": [
    "# 정렬 \n",
    "기준에 따라 데이터를 정렬\n",
    "\n",
    "정렬 sorting 이란 데이터를 특넝한 기준에 따라서 순서대로 나열하는 것\n",
    "\n",
    "프로그램에서 데이터를 가공할때 오름차순이나 내림차순 등 대부분 어떤식으로든 정렬해서 사용하는 경우가 많아서 정렬 알고리즘은 가장 많이 사용되는 알고리즘이다.\n",
    "\n",
    "이진 탐색 binary search 가 가능해짐.\n",
    "정렬 알고리즘은 : 선택 정렬, 삽입정렬, 퀵정렬, 계수 정렬 등 이있다.\n",
    "\n",
    "7 4 9  0 3 1 6 2 4 8 \n",
    "\n",
    "이와 같은 순서로 카드가 나열되어있을때 오름차순으로 어떻게 정렬할 수 있을까/\n",
    "\n",
    "# 선택 정렬\n",
    "\n",
    "데이터가 무작위로 있을때 이중에서 가장 작은 데이터를 선택해 맨앞에 있는 데이터와 바꾸고, 그다음 작은 데이터를 선택해해 앞에서 두번째 데이터와 바꾸는 것\n",
    "\n",
    "selection sort\n",
    "\n"
   ]
  },
  {
   "cell_type": "code",
   "execution_count": 26,
   "metadata": {},
   "outputs": [
    {
     "name": "stdout",
     "output_type": "stream",
     "text": [
      "[0, 1, 2, 3, 4, 5, 6, 7, 8, 9]\n"
     ]
    }
   ],
   "source": [
    "array1 = [ 7,5, 9,0,3,1,6,2,4,8]\n",
    "# 내가 만든 선택 정렬\n",
    "def selection_sort1(array1):\n",
    "    for i in range(len(array1)):\n",
    "        min_index = min(array1[i:len(array1)])\n",
    "        j = array1.index(min_index)\n",
    "        xx4=array1[i]\n",
    "        array1[i], array1[j] = min_index, xx4\n",
    "        #print(array1)\n",
    "    return array1\n",
    "selection_sort1(array1)\n",
    "\n",
    "array1 = [ 7,5, 9,0,3,1,6,2,4,8]\n",
    "# in book code\n",
    "\n",
    "for i in range(len(array1)):\n",
    "    min_index = i\n",
    "    for j in range(i+1,len(array1)):\n",
    "        if array1[min_index] >array1[j]:\n",
    "            min_index = j\n",
    "    array1[i],array1[min_index]= array1[min_index],array1[i]\n",
    "\n",
    "print(array1)\n",
    "\n",
    "# 시간 복잡도 는 O(n^2)\n"
   ]
  },
  {
   "cell_type": "code",
   "execution_count": 28,
   "metadata": {},
   "outputs": [
    {
     "data": {
      "text/plain": [
       "5"
      ]
     },
     "execution_count": 28,
     "metadata": {},
     "output_type": "execute_result"
    }
   ],
   "source": [
    "i=0\n",
    "array1 = [ 7,5, 9,0,3,1,6,2,4,8]\n",
    "array1[i:len(array1)]\n",
    "\n",
    "array1.index(1)"
   ]
  },
  {
   "cell_type": "markdown",
   "metadata": {},
   "source": [
    "# 삽입 정렬  insertion sort\n",
    " \n",
    "데이터를하나씩 확인하며 각 데이터를 적절한위치에 넣는 것은어떠한가?\n",
    "a"
   ]
  },
  {
   "cell_type": "code",
   "execution_count": 31,
   "metadata": {},
   "outputs": [
    {
     "name": "stdout",
     "output_type": "stream",
     "text": [
      "[0, 1, 2, 3, 4, 5, 6, 7, 8, 9]\n"
     ]
    }
   ],
   "source": [
    "# 삽입 정렬\n",
    "\n",
    "for i in range(1,len(array1)):\n",
    "    for j in range(i,0,-1):\n",
    "        if array1[j]<array1[j-1]:\n",
    "            array1[j],array1[j-1] = array1[j-1],array1[j]\n",
    "        else:\n",
    "            break\n",
    "print(array1)\n",
    "\n",
    "#삽입정렬의 시간복잡도는 n^2 \n",
    "# 현재 리스트가 거의 정렬되어있으면 빠르게 작동.\n"
   ]
  },
  {
   "cell_type": "markdown",
   "metadata": {},
   "source": [
    "# 퀵정렬    \n",
    "\n",
    "퀵정렬과 비교할만큼 빠른 정렬으로 병합 정렬이 있다.\n",
    "이 두 정렬은 대부분의 프로그래밍언어에서 정렬 라이브러리의 근간이 되는 알고리즘이다.\n",
    "그렇다면 어떻게 동작하길래 빠른 ㅇ정렬 알고리즘인지 알아보자.\n",
    "\n",
    "' 기준 데이터를 설정하고 그 기준보다 큰 데이터와 작은 데이터의 위치를 바꾸는것은 어떤가?\n",
    "퀵정렬은 기준을 설정한다음 큰수와 작은 수를 교환 환 후 리스트를반으로 나누는 방식으로 동작한다. \n",
    "\n",
    "퀵정렬에는 pivot 이 사용된다. 큰숫자와 작은 숫자를 교환할때 교환 하기 위한, 기준을 바로 피벗이라고 표현한다. \n",
    "pivot은 어떻게 설정할지 명시해야한다. 대표적으로 호어 분할 방식을 기준으로 퀵정렬을 설명하겠다.\n",
    "\n"
   ]
  },
  {
   "cell_type": "code",
   "execution_count": 32,
   "metadata": {},
   "outputs": [
    {
     "name": "stdout",
     "output_type": "stream",
     "text": [
      "[0, 1, 2, 3, 4, 5, 6, 7, 8, 9]\n"
     ]
    }
   ],
   "source": [
    "# divide partition\n",
    "\n",
    "array = [5, 7,9,0,3,1,6,2,4,8]\n",
    "\n",
    "def quick_sort(array):\n",
    "    if len(array)<=1:\n",
    "        return array\n",
    "    pivot = array[0] \n",
    "    tail = array[1:]\n",
    "    left_side = [x for x in tail if x <= pivot]\n",
    "    right_side = [x for x in tail if x > pivot]\n",
    "    return quick_sort(left_side)+[pivot]+quick_sort(right_side)\n",
    "print(quick_sort(array))\n",
    "\n",
    "# quick 정렬의시간 복잡도는 o( n log n)\n"
   ]
  },
  {
   "cell_type": "markdown",
   "metadata": {},
   "source": [
    "# 계수 정렬 알고리즘 count sort\n",
    " 특정한 조건이 부합 할때에만 사용할수있지만 매우 빠름\n",
    "\n",
    "파이썬의 정렬 라이브러리\n",
    "sort() 는 병합정렬을 기본으로 만들어짐. \n",
    "최악의 경우에도 n log n의 시간복잡도를 보장함.\n"
   ]
  },
  {
   "cell_type": "code",
   "execution_count": 39,
   "metadata": {},
   "outputs": [
    {
     "name": "stdout",
     "output_type": "stream",
     "text": [
      "('apple', 5)\n",
      "[('banana', 7), ('apple', 5), ('carrot', 3)]\n",
      "[('carrot', 3), ('apple', 5), ('banana', 7)]\n"
     ]
    }
   ],
   "source": [
    "array1= [('banana',7),('apple',5),('carrot',3)]\n",
    "def settinf(data):\n",
    "    return data[1] # 무슨 뜻이지....?\n",
    "result = sorted(array1,key=settinf)\n",
    "print(result)"
   ]
  },
  {
   "cell_type": "code",
   "execution_count": 10,
   "metadata": {},
   "outputs": [
    {
     "data": {
      "text/plain": [
       "[27, 15, 12]"
      ]
     },
     "execution_count": 10,
     "metadata": {},
     "output_type": "execute_result"
    }
   ],
   "source": [
    "# 하나의 수열에는 다양한 숫가 존재한다. 이러한 수는 크기에 상과업시 나열 되어있다. \n",
    "\n",
    "# 이수를 ㅋ큰수부터 작은 수의 순서로 정렬해야 한다. 내림차순으로 정렬하는 프로ㅡㄱ램을 ㅁ나들라\n",
    "\n",
    "n = int(input())\n",
    "list1 =[]\n",
    "for i in range(n):\n",
    "    list1.append(int(input()))\n",
    "\n",
    "def nerim(list): # 내림 차순\n",
    "    if len(list)<=1:\n",
    "        return list\n",
    "    pivot = list[0]\n",
    "\n",
    "    tail = list[1:]\n",
    "\n",
    "    left_side = [x for x in tail if x> pivot]\n",
    "    right_side = [x for x in tail if x <= pivot]\n",
    "    return left_side + [pivot]+ right_side\n",
    "\n",
    "nerim(list1)\n",
    "\n"
   ]
  },
  {
   "cell_type": "code",
   "execution_count": 9,
   "metadata": {},
   "outputs": [
    {
     "data": {
      "text/plain": [
       "[745, 323, 234, 89, 7, 7, 5, 4, 3, 2, 2, 1]"
      ]
     },
     "execution_count": 9,
     "metadata": {},
     "output_type": "execute_result"
    }
   ],
   "source": [
    "list1 = [2,3,7,89,4,5,7,745,234,2,1,323]\n",
    "def orm(list): # 오름차순\n",
    "    if len(list)<=1:\n",
    "        return list\n",
    "    pivot = list[0]\n",
    "\n",
    "    tail = list[1:]\n",
    "\n",
    "    left_side = [x for x in tail if x<= pivot]\n",
    "    right_side = [x for x in tail if x > pivot]\n",
    "    return nerim(left_side) + [pivot]+ nerim(right_side)\n",
    "nerim(list1)"
   ]
  },
  {
   "cell_type": "code",
   "execution_count": 14,
   "metadata": {},
   "outputs": [
    {
     "name": "stdout",
     "output_type": "stream",
     "text": [
      "27 15 12 "
     ]
    }
   ],
   "source": [
    "array1 = []\n",
    "\n",
    "for i in range(n):\n",
    "    array1.append(int(input()))\n",
    "array1 =  sorted(array1,reverse=True)\n",
    "\n",
    "for i in array1:\n",
    "    print(i,end=' ')"
   ]
  },
  {
   "cell_type": "code",
   "execution_count": 15,
   "metadata": {},
   "outputs": [
    {
     "name": "stdout",
     "output_type": "stream",
     "text": [
      "leeesun gangang "
     ]
    }
   ],
   "source": [
    "n =2\n",
    "array = []\n",
    "\n",
    "for i in  range(n):\n",
    "    input_data  = input().split()\n",
    "    array.append((input_data[0],int(input_data[1])))\n",
    "    array = sorted(array,reverse=False,key=lambda student: student[1])\n",
    "for student in array:\n",
    "    print(student[0],end=' ')\n"
   ]
  },
  {
   "cell_type": "code",
   "execution_count": null,
   "metadata": {},
   "outputs": [],
   "source": []
  }
 ],
 "metadata": {
  "kernelspec": {
   "display_name": "Python 3.9.7 ('akihabara_deep')",
   "language": "python",
   "name": "python3"
  },
  "language_info": {
   "codemirror_mode": {
    "name": "ipython",
    "version": 3
   },
   "file_extension": ".py",
   "mimetype": "text/x-python",
   "name": "python",
   "nbconvert_exporter": "python",
   "pygments_lexer": "ipython3",
   "version": "3.9.7"
  },
  "orig_nbformat": 4,
  "vscode": {
   "interpreter": {
    "hash": "daa4b12c7c0dfbea8a86e5c8683f87cd86f2768d8d85b18e100265b2a7dc8fca"
   }
  }
 },
 "nbformat": 4,
 "nbformat_minor": 2
}
